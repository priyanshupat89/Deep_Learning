{
  "nbformat": 4,
  "nbformat_minor": 0,
  "metadata": {
    "colab": {
      "provenance": []
    },
    "kernelspec": {
      "name": "python3",
      "display_name": "Python 3"
    },
    "language_info": {
      "name": "python"
    }
  },
  "cells": [
    {
      "cell_type": "code",
      "source": [
        "from google.colab import drive\n",
        "drive.mount('/content/drive')"
      ],
      "metadata": {
        "colab": {
          "base_uri": "https://localhost:8080/"
        },
        "id": "c22iRgoE55w9",
        "outputId": "397d980a-1ad8-4e14-beba-1bff951f7753"
      },
      "execution_count": null,
      "outputs": [
        {
          "output_type": "stream",
          "name": "stdout",
          "text": [
            "Mounted at /content/drive\n"
          ]
        }
      ]
    },
    {
      "cell_type": "code",
      "source": [
        "import numpy as np\n",
        "import pandas as pd\n",
        "import tensorflow as tf\n",
        "from tensorflow import keras\n",
        "import matplotlib.pyplot as plt\n",
        "from sklearn.preprocessing import MinMaxScaler"
      ],
      "metadata": {
        "id": "dxu6I2rE56Va"
      },
      "execution_count": null,
      "outputs": []
    },
    {
      "cell_type": "code",
      "source": [
        "training_data = pd.read_csv(\"/content/drive/MyDrive/trainGOOG.csv\")\n",
        "testing_data = pd.read_csv(\"/content/drive/MyDrive/test_GOOG.csv\")"
      ],
      "metadata": {
        "id": "YBVWTbH76aPj"
      },
      "execution_count": null,
      "outputs": []
    },
    {
      "cell_type": "code",
      "source": [
        "training_data.shape"
      ],
      "metadata": {
        "colab": {
          "base_uri": "https://localhost:8080/"
        },
        "id": "XQQ61SHO6Yrj",
        "outputId": "b52cd449-5e8e-4e19-b422-776bc378c4a6"
      },
      "execution_count": null,
      "outputs": [
        {
          "output_type": "execute_result",
          "data": {
            "text/plain": [
              "(2517, 7)"
            ]
          },
          "metadata": {},
          "execution_count": 4
        }
      ]
    },
    {
      "cell_type": "code",
      "source": [
        "testing_data.shape"
      ],
      "metadata": {
        "colab": {
          "base_uri": "https://localhost:8080/"
        },
        "id": "8ZQKqG1H68Rs",
        "outputId": "b28e8176-62e4-4aee-cb47-e895e094f968"
      },
      "execution_count": null,
      "outputs": [
        {
          "output_type": "execute_result",
          "data": {
            "text/plain": [
              "(252, 7)"
            ]
          },
          "metadata": {},
          "execution_count": 5
        }
      ]
    },
    {
      "cell_type": "code",
      "source": [
        "testing_data.info()"
      ],
      "metadata": {
        "colab": {
          "base_uri": "https://localhost:8080/"
        },
        "id": "Ba2oApHn7BBA",
        "outputId": "f7293c5f-f86d-4c6b-a67c-f59428565de0"
      },
      "execution_count": null,
      "outputs": [
        {
          "output_type": "stream",
          "name": "stdout",
          "text": [
            "<class 'pandas.core.frame.DataFrame'>\n",
            "RangeIndex: 252 entries, 0 to 251\n",
            "Data columns (total 7 columns):\n",
            " #   Column     Non-Null Count  Dtype  \n",
            "---  ------     --------------  -----  \n",
            " 0   Date       252 non-null    object \n",
            " 1   Open       252 non-null    float64\n",
            " 2   High       252 non-null    float64\n",
            " 3   Low        252 non-null    float64\n",
            " 4   Close      252 non-null    float64\n",
            " 5   Adj Close  252 non-null    float64\n",
            " 6   Volume     252 non-null    int64  \n",
            "dtypes: float64(5), int64(1), object(1)\n",
            "memory usage: 13.9+ KB\n"
          ]
        }
      ]
    },
    {
      "cell_type": "code",
      "source": [
        "testing_data.head()"
      ],
      "metadata": {
        "colab": {
          "base_uri": "https://localhost:8080/",
          "height": 206
        },
        "id": "l3MvUn-z7dth",
        "outputId": "5123de18-8b65-4c62-a518-3c2625905c7b"
      },
      "execution_count": null,
      "outputs": [
        {
          "output_type": "execute_result",
          "data": {
            "text/plain": [
              "         Date        Open        High         Low       Close   Adj Close  \\\n",
              "0  2023-04-10  107.389999  107.970001  105.599998  106.949997  106.949997   \n",
              "1  2023-04-11  106.919998  107.220001  105.279999  106.120003  106.120003   \n",
              "2  2023-04-12  107.389999  107.586998  104.970001  105.220001  105.220001   \n",
              "3  2023-04-13  106.470001  108.264999  106.440002  108.190002  108.190002   \n",
              "4  2023-04-14  107.690002  109.580002  107.589996  109.459999  109.459999   \n",
              "\n",
              "     Volume  \n",
              "0  19741500  \n",
              "1  18721300  \n",
              "2  22761600  \n",
              "3  21650700  \n",
              "4  20758700  "
            ],
            "text/html": [
              "\n",
              "  <div id=\"df-9f50fd75-2815-417b-8d2a-bb0e680185b3\" class=\"colab-df-container\">\n",
              "    <div>\n",
              "<style scoped>\n",
              "    .dataframe tbody tr th:only-of-type {\n",
              "        vertical-align: middle;\n",
              "    }\n",
              "\n",
              "    .dataframe tbody tr th {\n",
              "        vertical-align: top;\n",
              "    }\n",
              "\n",
              "    .dataframe thead th {\n",
              "        text-align: right;\n",
              "    }\n",
              "</style>\n",
              "<table border=\"1\" class=\"dataframe\">\n",
              "  <thead>\n",
              "    <tr style=\"text-align: right;\">\n",
              "      <th></th>\n",
              "      <th>Date</th>\n",
              "      <th>Open</th>\n",
              "      <th>High</th>\n",
              "      <th>Low</th>\n",
              "      <th>Close</th>\n",
              "      <th>Adj Close</th>\n",
              "      <th>Volume</th>\n",
              "    </tr>\n",
              "  </thead>\n",
              "  <tbody>\n",
              "    <tr>\n",
              "      <th>0</th>\n",
              "      <td>2023-04-10</td>\n",
              "      <td>107.389999</td>\n",
              "      <td>107.970001</td>\n",
              "      <td>105.599998</td>\n",
              "      <td>106.949997</td>\n",
              "      <td>106.949997</td>\n",
              "      <td>19741500</td>\n",
              "    </tr>\n",
              "    <tr>\n",
              "      <th>1</th>\n",
              "      <td>2023-04-11</td>\n",
              "      <td>106.919998</td>\n",
              "      <td>107.220001</td>\n",
              "      <td>105.279999</td>\n",
              "      <td>106.120003</td>\n",
              "      <td>106.120003</td>\n",
              "      <td>18721300</td>\n",
              "    </tr>\n",
              "    <tr>\n",
              "      <th>2</th>\n",
              "      <td>2023-04-12</td>\n",
              "      <td>107.389999</td>\n",
              "      <td>107.586998</td>\n",
              "      <td>104.970001</td>\n",
              "      <td>105.220001</td>\n",
              "      <td>105.220001</td>\n",
              "      <td>22761600</td>\n",
              "    </tr>\n",
              "    <tr>\n",
              "      <th>3</th>\n",
              "      <td>2023-04-13</td>\n",
              "      <td>106.470001</td>\n",
              "      <td>108.264999</td>\n",
              "      <td>106.440002</td>\n",
              "      <td>108.190002</td>\n",
              "      <td>108.190002</td>\n",
              "      <td>21650700</td>\n",
              "    </tr>\n",
              "    <tr>\n",
              "      <th>4</th>\n",
              "      <td>2023-04-14</td>\n",
              "      <td>107.690002</td>\n",
              "      <td>109.580002</td>\n",
              "      <td>107.589996</td>\n",
              "      <td>109.459999</td>\n",
              "      <td>109.459999</td>\n",
              "      <td>20758700</td>\n",
              "    </tr>\n",
              "  </tbody>\n",
              "</table>\n",
              "</div>\n",
              "    <div class=\"colab-df-buttons\">\n",
              "\n",
              "  <div class=\"colab-df-container\">\n",
              "    <button class=\"colab-df-convert\" onclick=\"convertToInteractive('df-9f50fd75-2815-417b-8d2a-bb0e680185b3')\"\n",
              "            title=\"Convert this dataframe to an interactive table.\"\n",
              "            style=\"display:none;\">\n",
              "\n",
              "  <svg xmlns=\"http://www.w3.org/2000/svg\" height=\"24px\" viewBox=\"0 -960 960 960\">\n",
              "    <path d=\"M120-120v-720h720v720H120Zm60-500h600v-160H180v160Zm220 220h160v-160H400v160Zm0 220h160v-160H400v160ZM180-400h160v-160H180v160Zm440 0h160v-160H620v160ZM180-180h160v-160H180v160Zm440 0h160v-160H620v160Z\"/>\n",
              "  </svg>\n",
              "    </button>\n",
              "\n",
              "  <style>\n",
              "    .colab-df-container {\n",
              "      display:flex;\n",
              "      gap: 12px;\n",
              "    }\n",
              "\n",
              "    .colab-df-convert {\n",
              "      background-color: #E8F0FE;\n",
              "      border: none;\n",
              "      border-radius: 50%;\n",
              "      cursor: pointer;\n",
              "      display: none;\n",
              "      fill: #1967D2;\n",
              "      height: 32px;\n",
              "      padding: 0 0 0 0;\n",
              "      width: 32px;\n",
              "    }\n",
              "\n",
              "    .colab-df-convert:hover {\n",
              "      background-color: #E2EBFA;\n",
              "      box-shadow: 0px 1px 2px rgba(60, 64, 67, 0.3), 0px 1px 3px 1px rgba(60, 64, 67, 0.15);\n",
              "      fill: #174EA6;\n",
              "    }\n",
              "\n",
              "    .colab-df-buttons div {\n",
              "      margin-bottom: 4px;\n",
              "    }\n",
              "\n",
              "    [theme=dark] .colab-df-convert {\n",
              "      background-color: #3B4455;\n",
              "      fill: #D2E3FC;\n",
              "    }\n",
              "\n",
              "    [theme=dark] .colab-df-convert:hover {\n",
              "      background-color: #434B5C;\n",
              "      box-shadow: 0px 1px 3px 1px rgba(0, 0, 0, 0.15);\n",
              "      filter: drop-shadow(0px 1px 2px rgba(0, 0, 0, 0.3));\n",
              "      fill: #FFFFFF;\n",
              "    }\n",
              "  </style>\n",
              "\n",
              "    <script>\n",
              "      const buttonEl =\n",
              "        document.querySelector('#df-9f50fd75-2815-417b-8d2a-bb0e680185b3 button.colab-df-convert');\n",
              "      buttonEl.style.display =\n",
              "        google.colab.kernel.accessAllowed ? 'block' : 'none';\n",
              "\n",
              "      async function convertToInteractive(key) {\n",
              "        const element = document.querySelector('#df-9f50fd75-2815-417b-8d2a-bb0e680185b3');\n",
              "        const dataTable =\n",
              "          await google.colab.kernel.invokeFunction('convertToInteractive',\n",
              "                                                    [key], {});\n",
              "        if (!dataTable) return;\n",
              "\n",
              "        const docLinkHtml = 'Like what you see? Visit the ' +\n",
              "          '<a target=\"_blank\" href=https://colab.research.google.com/notebooks/data_table.ipynb>data table notebook</a>'\n",
              "          + ' to learn more about interactive tables.';\n",
              "        element.innerHTML = '';\n",
              "        dataTable['output_type'] = 'display_data';\n",
              "        await google.colab.output.renderOutput(dataTable, element);\n",
              "        const docLink = document.createElement('div');\n",
              "        docLink.innerHTML = docLinkHtml;\n",
              "        element.appendChild(docLink);\n",
              "      }\n",
              "    </script>\n",
              "  </div>\n",
              "\n",
              "\n",
              "<div id=\"df-4eaf5e2c-d2f2-4260-938a-3096d3874b7a\">\n",
              "  <button class=\"colab-df-quickchart\" onclick=\"quickchart('df-4eaf5e2c-d2f2-4260-938a-3096d3874b7a')\"\n",
              "            title=\"Suggest charts\"\n",
              "            style=\"display:none;\">\n",
              "\n",
              "<svg xmlns=\"http://www.w3.org/2000/svg\" height=\"24px\"viewBox=\"0 0 24 24\"\n",
              "     width=\"24px\">\n",
              "    <g>\n",
              "        <path d=\"M19 3H5c-1.1 0-2 .9-2 2v14c0 1.1.9 2 2 2h14c1.1 0 2-.9 2-2V5c0-1.1-.9-2-2-2zM9 17H7v-7h2v7zm4 0h-2V7h2v10zm4 0h-2v-4h2v4z\"/>\n",
              "    </g>\n",
              "</svg>\n",
              "  </button>\n",
              "\n",
              "<style>\n",
              "  .colab-df-quickchart {\n",
              "      --bg-color: #E8F0FE;\n",
              "      --fill-color: #1967D2;\n",
              "      --hover-bg-color: #E2EBFA;\n",
              "      --hover-fill-color: #174EA6;\n",
              "      --disabled-fill-color: #AAA;\n",
              "      --disabled-bg-color: #DDD;\n",
              "  }\n",
              "\n",
              "  [theme=dark] .colab-df-quickchart {\n",
              "      --bg-color: #3B4455;\n",
              "      --fill-color: #D2E3FC;\n",
              "      --hover-bg-color: #434B5C;\n",
              "      --hover-fill-color: #FFFFFF;\n",
              "      --disabled-bg-color: #3B4455;\n",
              "      --disabled-fill-color: #666;\n",
              "  }\n",
              "\n",
              "  .colab-df-quickchart {\n",
              "    background-color: var(--bg-color);\n",
              "    border: none;\n",
              "    border-radius: 50%;\n",
              "    cursor: pointer;\n",
              "    display: none;\n",
              "    fill: var(--fill-color);\n",
              "    height: 32px;\n",
              "    padding: 0;\n",
              "    width: 32px;\n",
              "  }\n",
              "\n",
              "  .colab-df-quickchart:hover {\n",
              "    background-color: var(--hover-bg-color);\n",
              "    box-shadow: 0 1px 2px rgba(60, 64, 67, 0.3), 0 1px 3px 1px rgba(60, 64, 67, 0.15);\n",
              "    fill: var(--button-hover-fill-color);\n",
              "  }\n",
              "\n",
              "  .colab-df-quickchart-complete:disabled,\n",
              "  .colab-df-quickchart-complete:disabled:hover {\n",
              "    background-color: var(--disabled-bg-color);\n",
              "    fill: var(--disabled-fill-color);\n",
              "    box-shadow: none;\n",
              "  }\n",
              "\n",
              "  .colab-df-spinner {\n",
              "    border: 2px solid var(--fill-color);\n",
              "    border-color: transparent;\n",
              "    border-bottom-color: var(--fill-color);\n",
              "    animation:\n",
              "      spin 1s steps(1) infinite;\n",
              "  }\n",
              "\n",
              "  @keyframes spin {\n",
              "    0% {\n",
              "      border-color: transparent;\n",
              "      border-bottom-color: var(--fill-color);\n",
              "      border-left-color: var(--fill-color);\n",
              "    }\n",
              "    20% {\n",
              "      border-color: transparent;\n",
              "      border-left-color: var(--fill-color);\n",
              "      border-top-color: var(--fill-color);\n",
              "    }\n",
              "    30% {\n",
              "      border-color: transparent;\n",
              "      border-left-color: var(--fill-color);\n",
              "      border-top-color: var(--fill-color);\n",
              "      border-right-color: var(--fill-color);\n",
              "    }\n",
              "    40% {\n",
              "      border-color: transparent;\n",
              "      border-right-color: var(--fill-color);\n",
              "      border-top-color: var(--fill-color);\n",
              "    }\n",
              "    60% {\n",
              "      border-color: transparent;\n",
              "      border-right-color: var(--fill-color);\n",
              "    }\n",
              "    80% {\n",
              "      border-color: transparent;\n",
              "      border-right-color: var(--fill-color);\n",
              "      border-bottom-color: var(--fill-color);\n",
              "    }\n",
              "    90% {\n",
              "      border-color: transparent;\n",
              "      border-bottom-color: var(--fill-color);\n",
              "    }\n",
              "  }\n",
              "</style>\n",
              "\n",
              "  <script>\n",
              "    async function quickchart(key) {\n",
              "      const quickchartButtonEl =\n",
              "        document.querySelector('#' + key + ' button');\n",
              "      quickchartButtonEl.disabled = true;  // To prevent multiple clicks.\n",
              "      quickchartButtonEl.classList.add('colab-df-spinner');\n",
              "      try {\n",
              "        const charts = await google.colab.kernel.invokeFunction(\n",
              "            'suggestCharts', [key], {});\n",
              "      } catch (error) {\n",
              "        console.error('Error during call to suggestCharts:', error);\n",
              "      }\n",
              "      quickchartButtonEl.classList.remove('colab-df-spinner');\n",
              "      quickchartButtonEl.classList.add('colab-df-quickchart-complete');\n",
              "    }\n",
              "    (() => {\n",
              "      let quickchartButtonEl =\n",
              "        document.querySelector('#df-4eaf5e2c-d2f2-4260-938a-3096d3874b7a button');\n",
              "      quickchartButtonEl.style.display =\n",
              "        google.colab.kernel.accessAllowed ? 'block' : 'none';\n",
              "    })();\n",
              "  </script>\n",
              "</div>\n",
              "\n",
              "    </div>\n",
              "  </div>\n"
            ],
            "application/vnd.google.colaboratory.intrinsic+json": {
              "type": "dataframe",
              "variable_name": "testing_data",
              "summary": "{\n  \"name\": \"testing_data\",\n  \"rows\": 252,\n  \"fields\": [\n    {\n      \"column\": \"Date\",\n      \"properties\": {\n        \"dtype\": \"object\",\n        \"num_unique_values\": 252,\n        \"samples\": [\n          \"2023-12-04\",\n          \"2023-04-18\",\n          \"2023-09-18\"\n        ],\n        \"semantic_type\": \"\",\n        \"description\": \"\"\n      }\n    },\n    {\n      \"column\": \"Open\",\n      \"properties\": {\n        \"dtype\": \"number\",\n        \"std\": 12.178981413045916,\n        \"min\": 104.214996,\n        \"max\": 157.350006,\n        \"num_unique_values\": 242,\n        \"samples\": [\n          116.489998,\n          104.214996,\n          137.820007\n        ],\n        \"semantic_type\": \"\",\n        \"description\": \"\"\n      }\n    },\n    {\n      \"column\": \"High\",\n      \"properties\": {\n        \"dtype\": \"number\",\n        \"std\": 12.186767135210543,\n        \"min\": 105.724998,\n        \"max\": 159.889999,\n        \"num_unique_values\": 248,\n        \"samples\": [\n          125.980003,\n          107.050003,\n          140.615005\n        ],\n        \"semantic_type\": \"\",\n        \"description\": \"\"\n      }\n    },\n    {\n      \"column\": \"Low\",\n      \"properties\": {\n        \"dtype\": \"number\",\n        \"std\": 12.158023048704546,\n        \"min\": 103.269997,\n        \"max\": 156.639999,\n        \"num_unique_values\": 249,\n        \"samples\": [\n          122.32,\n          104.779999,\n          132.979996\n        ],\n        \"semantic_type\": \"\",\n        \"description\": \"\"\n      }\n    },\n    {\n      \"column\": \"Close\",\n      \"properties\": {\n        \"dtype\": \"number\",\n        \"std\": 12.218706782275339,\n        \"min\": 104.449997,\n        \"max\": 158.139999,\n        \"num_unique_values\": 246,\n        \"samples\": [\n          125.43,\n          105.120003,\n          140.360001\n        ],\n        \"semantic_type\": \"\",\n        \"description\": \"\"\n      }\n    },\n    {\n      \"column\": \"Adj Close\",\n      \"properties\": {\n        \"dtype\": \"number\",\n        \"std\": 12.218706782275339,\n        \"min\": 104.449997,\n        \"max\": 158.139999,\n        \"num_unique_values\": 246,\n        \"samples\": [\n          125.43,\n          105.120003,\n          140.360001\n        ],\n        \"semantic_type\": \"\",\n        \"description\": \"\"\n      }\n    },\n    {\n      \"column\": \"Volume\",\n      \"properties\": {\n        \"dtype\": \"number\",\n        \"std\": 8364012,\n        \"min\": 8828600,\n        \"max\": 58796100,\n        \"num_unique_values\": 252,\n        \"samples\": [\n          24117100,\n          17641400,\n          16233600\n        ],\n        \"semantic_type\": \"\",\n        \"description\": \"\"\n      }\n    }\n  ]\n}"
            }
          },
          "metadata": {},
          "execution_count": 7
        }
      ]
    },
    {
      "cell_type": "code",
      "source": [
        "training_data.head()"
      ],
      "metadata": {
        "colab": {
          "base_uri": "https://localhost:8080/",
          "height": 206
        },
        "id": "TyixGps47n1W",
        "outputId": "e8432f6a-0502-4e5b-b3cb-92c9030db41b"
      },
      "execution_count": null,
      "outputs": [
        {
          "output_type": "execute_result",
          "data": {
            "text/plain": [
              "         Date       Open       High        Low      Close  Adj Close  \\\n",
              "0  03-01-2011  14.856315  15.083214  14.856315  15.052330  15.052330   \n",
              "1  04-01-2011  15.083962  15.097909  14.946975  14.996788  14.996788   \n",
              "2  05-01-2011  14.945730  15.201272  14.945232  15.169890  15.169890   \n",
              "3  06-01-2011  15.209989  15.403016  15.194298  15.280226  15.280226   \n",
              "4  07-01-2011  15.340251  15.398533  15.196291  15.353451  15.353451   \n",
              "\n",
              "      Volume  \n",
              "0   94962614  \n",
              "1   73253547  \n",
              "2  101671667  \n",
              "3   82620526  \n",
              "4   84363033  "
            ],
            "text/html": [
              "\n",
              "  <div id=\"df-7ec28c81-2ee3-4c59-afb2-f3c3d3c42635\" class=\"colab-df-container\">\n",
              "    <div>\n",
              "<style scoped>\n",
              "    .dataframe tbody tr th:only-of-type {\n",
              "        vertical-align: middle;\n",
              "    }\n",
              "\n",
              "    .dataframe tbody tr th {\n",
              "        vertical-align: top;\n",
              "    }\n",
              "\n",
              "    .dataframe thead th {\n",
              "        text-align: right;\n",
              "    }\n",
              "</style>\n",
              "<table border=\"1\" class=\"dataframe\">\n",
              "  <thead>\n",
              "    <tr style=\"text-align: right;\">\n",
              "      <th></th>\n",
              "      <th>Date</th>\n",
              "      <th>Open</th>\n",
              "      <th>High</th>\n",
              "      <th>Low</th>\n",
              "      <th>Close</th>\n",
              "      <th>Adj Close</th>\n",
              "      <th>Volume</th>\n",
              "    </tr>\n",
              "  </thead>\n",
              "  <tbody>\n",
              "    <tr>\n",
              "      <th>0</th>\n",
              "      <td>03-01-2011</td>\n",
              "      <td>14.856315</td>\n",
              "      <td>15.083214</td>\n",
              "      <td>14.856315</td>\n",
              "      <td>15.052330</td>\n",
              "      <td>15.052330</td>\n",
              "      <td>94962614</td>\n",
              "    </tr>\n",
              "    <tr>\n",
              "      <th>1</th>\n",
              "      <td>04-01-2011</td>\n",
              "      <td>15.083962</td>\n",
              "      <td>15.097909</td>\n",
              "      <td>14.946975</td>\n",
              "      <td>14.996788</td>\n",
              "      <td>14.996788</td>\n",
              "      <td>73253547</td>\n",
              "    </tr>\n",
              "    <tr>\n",
              "      <th>2</th>\n",
              "      <td>05-01-2011</td>\n",
              "      <td>14.945730</td>\n",
              "      <td>15.201272</td>\n",
              "      <td>14.945232</td>\n",
              "      <td>15.169890</td>\n",
              "      <td>15.169890</td>\n",
              "      <td>101671667</td>\n",
              "    </tr>\n",
              "    <tr>\n",
              "      <th>3</th>\n",
              "      <td>06-01-2011</td>\n",
              "      <td>15.209989</td>\n",
              "      <td>15.403016</td>\n",
              "      <td>15.194298</td>\n",
              "      <td>15.280226</td>\n",
              "      <td>15.280226</td>\n",
              "      <td>82620526</td>\n",
              "    </tr>\n",
              "    <tr>\n",
              "      <th>4</th>\n",
              "      <td>07-01-2011</td>\n",
              "      <td>15.340251</td>\n",
              "      <td>15.398533</td>\n",
              "      <td>15.196291</td>\n",
              "      <td>15.353451</td>\n",
              "      <td>15.353451</td>\n",
              "      <td>84363033</td>\n",
              "    </tr>\n",
              "  </tbody>\n",
              "</table>\n",
              "</div>\n",
              "    <div class=\"colab-df-buttons\">\n",
              "\n",
              "  <div class=\"colab-df-container\">\n",
              "    <button class=\"colab-df-convert\" onclick=\"convertToInteractive('df-7ec28c81-2ee3-4c59-afb2-f3c3d3c42635')\"\n",
              "            title=\"Convert this dataframe to an interactive table.\"\n",
              "            style=\"display:none;\">\n",
              "\n",
              "  <svg xmlns=\"http://www.w3.org/2000/svg\" height=\"24px\" viewBox=\"0 -960 960 960\">\n",
              "    <path d=\"M120-120v-720h720v720H120Zm60-500h600v-160H180v160Zm220 220h160v-160H400v160Zm0 220h160v-160H400v160ZM180-400h160v-160H180v160Zm440 0h160v-160H620v160ZM180-180h160v-160H180v160Zm440 0h160v-160H620v160Z\"/>\n",
              "  </svg>\n",
              "    </button>\n",
              "\n",
              "  <style>\n",
              "    .colab-df-container {\n",
              "      display:flex;\n",
              "      gap: 12px;\n",
              "    }\n",
              "\n",
              "    .colab-df-convert {\n",
              "      background-color: #E8F0FE;\n",
              "      border: none;\n",
              "      border-radius: 50%;\n",
              "      cursor: pointer;\n",
              "      display: none;\n",
              "      fill: #1967D2;\n",
              "      height: 32px;\n",
              "      padding: 0 0 0 0;\n",
              "      width: 32px;\n",
              "    }\n",
              "\n",
              "    .colab-df-convert:hover {\n",
              "      background-color: #E2EBFA;\n",
              "      box-shadow: 0px 1px 2px rgba(60, 64, 67, 0.3), 0px 1px 3px 1px rgba(60, 64, 67, 0.15);\n",
              "      fill: #174EA6;\n",
              "    }\n",
              "\n",
              "    .colab-df-buttons div {\n",
              "      margin-bottom: 4px;\n",
              "    }\n",
              "\n",
              "    [theme=dark] .colab-df-convert {\n",
              "      background-color: #3B4455;\n",
              "      fill: #D2E3FC;\n",
              "    }\n",
              "\n",
              "    [theme=dark] .colab-df-convert:hover {\n",
              "      background-color: #434B5C;\n",
              "      box-shadow: 0px 1px 3px 1px rgba(0, 0, 0, 0.15);\n",
              "      filter: drop-shadow(0px 1px 2px rgba(0, 0, 0, 0.3));\n",
              "      fill: #FFFFFF;\n",
              "    }\n",
              "  </style>\n",
              "\n",
              "    <script>\n",
              "      const buttonEl =\n",
              "        document.querySelector('#df-7ec28c81-2ee3-4c59-afb2-f3c3d3c42635 button.colab-df-convert');\n",
              "      buttonEl.style.display =\n",
              "        google.colab.kernel.accessAllowed ? 'block' : 'none';\n",
              "\n",
              "      async function convertToInteractive(key) {\n",
              "        const element = document.querySelector('#df-7ec28c81-2ee3-4c59-afb2-f3c3d3c42635');\n",
              "        const dataTable =\n",
              "          await google.colab.kernel.invokeFunction('convertToInteractive',\n",
              "                                                    [key], {});\n",
              "        if (!dataTable) return;\n",
              "\n",
              "        const docLinkHtml = 'Like what you see? Visit the ' +\n",
              "          '<a target=\"_blank\" href=https://colab.research.google.com/notebooks/data_table.ipynb>data table notebook</a>'\n",
              "          + ' to learn more about interactive tables.';\n",
              "        element.innerHTML = '';\n",
              "        dataTable['output_type'] = 'display_data';\n",
              "        await google.colab.output.renderOutput(dataTable, element);\n",
              "        const docLink = document.createElement('div');\n",
              "        docLink.innerHTML = docLinkHtml;\n",
              "        element.appendChild(docLink);\n",
              "      }\n",
              "    </script>\n",
              "  </div>\n",
              "\n",
              "\n",
              "<div id=\"df-37d10fa5-ee6d-4106-a352-292fda022fb0\">\n",
              "  <button class=\"colab-df-quickchart\" onclick=\"quickchart('df-37d10fa5-ee6d-4106-a352-292fda022fb0')\"\n",
              "            title=\"Suggest charts\"\n",
              "            style=\"display:none;\">\n",
              "\n",
              "<svg xmlns=\"http://www.w3.org/2000/svg\" height=\"24px\"viewBox=\"0 0 24 24\"\n",
              "     width=\"24px\">\n",
              "    <g>\n",
              "        <path d=\"M19 3H5c-1.1 0-2 .9-2 2v14c0 1.1.9 2 2 2h14c1.1 0 2-.9 2-2V5c0-1.1-.9-2-2-2zM9 17H7v-7h2v7zm4 0h-2V7h2v10zm4 0h-2v-4h2v4z\"/>\n",
              "    </g>\n",
              "</svg>\n",
              "  </button>\n",
              "\n",
              "<style>\n",
              "  .colab-df-quickchart {\n",
              "      --bg-color: #E8F0FE;\n",
              "      --fill-color: #1967D2;\n",
              "      --hover-bg-color: #E2EBFA;\n",
              "      --hover-fill-color: #174EA6;\n",
              "      --disabled-fill-color: #AAA;\n",
              "      --disabled-bg-color: #DDD;\n",
              "  }\n",
              "\n",
              "  [theme=dark] .colab-df-quickchart {\n",
              "      --bg-color: #3B4455;\n",
              "      --fill-color: #D2E3FC;\n",
              "      --hover-bg-color: #434B5C;\n",
              "      --hover-fill-color: #FFFFFF;\n",
              "      --disabled-bg-color: #3B4455;\n",
              "      --disabled-fill-color: #666;\n",
              "  }\n",
              "\n",
              "  .colab-df-quickchart {\n",
              "    background-color: var(--bg-color);\n",
              "    border: none;\n",
              "    border-radius: 50%;\n",
              "    cursor: pointer;\n",
              "    display: none;\n",
              "    fill: var(--fill-color);\n",
              "    height: 32px;\n",
              "    padding: 0;\n",
              "    width: 32px;\n",
              "  }\n",
              "\n",
              "  .colab-df-quickchart:hover {\n",
              "    background-color: var(--hover-bg-color);\n",
              "    box-shadow: 0 1px 2px rgba(60, 64, 67, 0.3), 0 1px 3px 1px rgba(60, 64, 67, 0.15);\n",
              "    fill: var(--button-hover-fill-color);\n",
              "  }\n",
              "\n",
              "  .colab-df-quickchart-complete:disabled,\n",
              "  .colab-df-quickchart-complete:disabled:hover {\n",
              "    background-color: var(--disabled-bg-color);\n",
              "    fill: var(--disabled-fill-color);\n",
              "    box-shadow: none;\n",
              "  }\n",
              "\n",
              "  .colab-df-spinner {\n",
              "    border: 2px solid var(--fill-color);\n",
              "    border-color: transparent;\n",
              "    border-bottom-color: var(--fill-color);\n",
              "    animation:\n",
              "      spin 1s steps(1) infinite;\n",
              "  }\n",
              "\n",
              "  @keyframes spin {\n",
              "    0% {\n",
              "      border-color: transparent;\n",
              "      border-bottom-color: var(--fill-color);\n",
              "      border-left-color: var(--fill-color);\n",
              "    }\n",
              "    20% {\n",
              "      border-color: transparent;\n",
              "      border-left-color: var(--fill-color);\n",
              "      border-top-color: var(--fill-color);\n",
              "    }\n",
              "    30% {\n",
              "      border-color: transparent;\n",
              "      border-left-color: var(--fill-color);\n",
              "      border-top-color: var(--fill-color);\n",
              "      border-right-color: var(--fill-color);\n",
              "    }\n",
              "    40% {\n",
              "      border-color: transparent;\n",
              "      border-right-color: var(--fill-color);\n",
              "      border-top-color: var(--fill-color);\n",
              "    }\n",
              "    60% {\n",
              "      border-color: transparent;\n",
              "      border-right-color: var(--fill-color);\n",
              "    }\n",
              "    80% {\n",
              "      border-color: transparent;\n",
              "      border-right-color: var(--fill-color);\n",
              "      border-bottom-color: var(--fill-color);\n",
              "    }\n",
              "    90% {\n",
              "      border-color: transparent;\n",
              "      border-bottom-color: var(--fill-color);\n",
              "    }\n",
              "  }\n",
              "</style>\n",
              "\n",
              "  <script>\n",
              "    async function quickchart(key) {\n",
              "      const quickchartButtonEl =\n",
              "        document.querySelector('#' + key + ' button');\n",
              "      quickchartButtonEl.disabled = true;  // To prevent multiple clicks.\n",
              "      quickchartButtonEl.classList.add('colab-df-spinner');\n",
              "      try {\n",
              "        const charts = await google.colab.kernel.invokeFunction(\n",
              "            'suggestCharts', [key], {});\n",
              "      } catch (error) {\n",
              "        console.error('Error during call to suggestCharts:', error);\n",
              "      }\n",
              "      quickchartButtonEl.classList.remove('colab-df-spinner');\n",
              "      quickchartButtonEl.classList.add('colab-df-quickchart-complete');\n",
              "    }\n",
              "    (() => {\n",
              "      let quickchartButtonEl =\n",
              "        document.querySelector('#df-37d10fa5-ee6d-4106-a352-292fda022fb0 button');\n",
              "      quickchartButtonEl.style.display =\n",
              "        google.colab.kernel.accessAllowed ? 'block' : 'none';\n",
              "    })();\n",
              "  </script>\n",
              "</div>\n",
              "\n",
              "    </div>\n",
              "  </div>\n"
            ],
            "application/vnd.google.colaboratory.intrinsic+json": {
              "type": "dataframe",
              "variable_name": "training_data",
              "summary": "{\n  \"name\": \"training_data\",\n  \"rows\": 2517,\n  \"fields\": [\n    {\n      \"column\": \"Date\",\n      \"properties\": {\n        \"dtype\": \"string\",\n        \"num_unique_values\": 2517,\n        \"samples\": [\n          \"24-09-2019\",\n          \"17-08-2012\",\n          \"12-07-2016\"\n        ],\n        \"semantic_type\": \"\",\n        \"description\": \"\"\n      }\n    },\n    {\n      \"column\": \"Open\",\n      \"properties\": {\n        \"dtype\": \"number\",\n        \"std\": 19.37198492676197,\n        \"min\": 11.805749,\n        \"max\": 91.225998,\n        \"num_unique_values\": 2451,\n        \"samples\": [\n          27.958241,\n          26.98242,\n          30.360001\n        ],\n        \"semantic_type\": \"\",\n        \"description\": \"\"\n      }\n    },\n    {\n      \"column\": \"High\",\n      \"properties\": {\n        \"dtype\": \"number\",\n        \"std\": 19.599682885826486,\n        \"min\": 11.973869,\n        \"max\": 92.360001,\n        \"num_unique_values\": 2461,\n        \"samples\": [\n          53.029999,\n          57.198002,\n          27.074949\n        ],\n        \"semantic_type\": \"\",\n        \"description\": \"\"\n      }\n    },\n    {\n      \"column\": \"Low\",\n      \"properties\": {\n        \"dtype\": \"number\",\n        \"std\": 19.17760063090605,\n        \"min\": 11.781341,\n        \"max\": 91.1325,\n        \"num_unique_values\": 2478,\n        \"samples\": [\n          51.156849,\n          15.46852,\n          56.896999\n        ],\n        \"semantic_type\": \"\",\n        \"description\": \"\"\n      }\n    },\n    {\n      \"column\": \"Close\",\n      \"properties\": {\n        \"dtype\": \"number\",\n        \"std\": 19.396554664407816,\n        \"min\": 11.827667,\n        \"max\": 91.399498,\n        \"num_unique_values\": 2492,\n        \"samples\": [\n          66.035004,\n          58.403999,\n          39.111\n        ],\n        \"semantic_type\": \"\",\n        \"description\": \"\"\n      }\n    },\n    {\n      \"column\": \"Adj Close\",\n      \"properties\": {\n        \"dtype\": \"number\",\n        \"std\": 19.396554664407816,\n        \"min\": 11.827667,\n        \"max\": 91.399498,\n        \"num_unique_values\": 2492,\n        \"samples\": [\n          66.035004,\n          58.403999,\n          39.111\n        ],\n        \"semantic_type\": \"\",\n        \"description\": \"\"\n      }\n    },\n    {\n      \"column\": \"Volume\",\n      \"properties\": {\n        \"dtype\": \"number\",\n        \"std\": 47027496,\n        \"min\": 158434,\n        \"max\": 563853569,\n        \"num_unique_values\": 2451,\n        \"samples\": [\n          23925508,\n          33068541,\n          45590000\n        ],\n        \"semantic_type\": \"\",\n        \"description\": \"\"\n      }\n    }\n  ]\n}"
            }
          },
          "metadata": {},
          "execution_count": 8
        }
      ]
    },
    {
      "cell_type": "code",
      "source": [
        "train_data = training_data.iloc[:,1:2].values\n",
        "test_data = testing_data.iloc[:,1:2].values"
      ],
      "metadata": {
        "id": "ErjOcgcC7uEO"
      },
      "execution_count": null,
      "outputs": []
    },
    {
      "cell_type": "code",
      "source": [
        "train_data.shape, training_data.shape,test_data.shape, testing_data.shape"
      ],
      "metadata": {
        "colab": {
          "base_uri": "https://localhost:8080/"
        },
        "id": "VkExP8UK8PCv",
        "outputId": "666cad60-146b-49f5-9f0c-1805b6a00085"
      },
      "execution_count": null,
      "outputs": [
        {
          "output_type": "execute_result",
          "data": {
            "text/plain": [
              "((2517, 1), (2517, 7), (252, 1), (252, 7))"
            ]
          },
          "metadata": {},
          "execution_count": 24
        }
      ]
    },
    {
      "cell_type": "code",
      "source": [
        "train_data"
      ],
      "metadata": {
        "colab": {
          "base_uri": "https://localhost:8080/"
        },
        "id": "OaDwUJ098Sse",
        "outputId": "9765cb47-b847-4b8e-925b-e79beaf1df29"
      },
      "execution_count": null,
      "outputs": [
        {
          "output_type": "execute_result",
          "data": {
            "text/plain": [
              "array([[14.856315],\n",
              "       [15.083962],\n",
              "       [14.94573 ],\n",
              "       ...,\n",
              "       [89.389503],\n",
              "       [88.100502],\n",
              "       [86.771004]])"
            ]
          },
          "metadata": {},
          "execution_count": 11
        }
      ]
    },
    {
      "cell_type": "code",
      "source": [
        "scaler = MinMaxScaler()"
      ],
      "metadata": {
        "id": "si1ULKht8V4V"
      },
      "execution_count": null,
      "outputs": []
    },
    {
      "cell_type": "code",
      "source": [
        "train_data = scaler.fit_transform(train_data)\n",
        "test_data = scaler.fit_transform(test_data)"
      ],
      "metadata": {
        "id": "q5zlCFvq80XF"
      },
      "execution_count": null,
      "outputs": []
    },
    {
      "cell_type": "code",
      "source": [
        "train_data"
      ],
      "metadata": {
        "colab": {
          "base_uri": "https://localhost:8080/"
        },
        "id": "NpQ2oq0i882D",
        "outputId": "ef6d2037-d10d-4676-f1ea-71c02d8329e3"
      },
      "execution_count": null,
      "outputs": [
        {
          "output_type": "execute_result",
          "data": {
            "text/plain": [
              "array([[0.03841043],\n",
              "       [0.04127679],\n",
              "       [0.03953628],\n",
              "       ...,\n",
              "       [0.97687624],\n",
              "       [0.96064611],\n",
              "       [0.94390607]])"
            ]
          },
          "metadata": {},
          "execution_count": 14
        }
      ]
    },
    {
      "cell_type": "code",
      "source": [
        "X_train = []\n",
        "y_train = []\n",
        "X_test = []\n",
        "y_test = []"
      ],
      "metadata": {
        "id": "NaaiOitw9FGa"
      },
      "execution_count": null,
      "outputs": []
    },
    {
      "cell_type": "code",
      "source": [
        "for i in range(50,2517):\n",
        "  X_train.append(train_data[i-50:i,0])\n",
        "  y_train.append(train_data[i,0])\n",
        "\n",
        "X_train = np.array(X_train)\n",
        "y_train = np.array(y_train)\n",
        "\n"
      ],
      "metadata": {
        "id": "DuYkAOtF9ccK"
      },
      "execution_count": null,
      "outputs": []
    },
    {
      "cell_type": "code",
      "source": [
        "for i in range(50,252):\n",
        "  X_test.append(test_data[i-50:i,0])\n",
        "  y_test.append(test_data[i,0])\n",
        "\n",
        "X_test = np.array(X_test)\n",
        "y_test = np.array(y_test)"
      ],
      "metadata": {
        "id": "yGGHZU5CACsL"
      },
      "execution_count": null,
      "outputs": []
    },
    {
      "cell_type": "code",
      "source": [
        "X_test.shape,y_test.shape"
      ],
      "metadata": {
        "colab": {
          "base_uri": "https://localhost:8080/"
        },
        "id": "3B_yQ2uVAz9m",
        "outputId": "b720d949-6d10-4dc3-c9b3-3c973f7a230f"
      },
      "execution_count": null,
      "outputs": [
        {
          "output_type": "execute_result",
          "data": {
            "text/plain": [
              "((202, 50), (202,))"
            ]
          },
          "metadata": {},
          "execution_count": 51
        }
      ]
    },
    {
      "cell_type": "code",
      "source": [
        "X_train.shape, y_train.shape"
      ],
      "metadata": {
        "colab": {
          "base_uri": "https://localhost:8080/"
        },
        "id": "636k6VBt-YvR",
        "outputId": "82ab1221-9e5e-408a-b9b3-c0d2f580be76"
      },
      "execution_count": null,
      "outputs": [
        {
          "output_type": "execute_result",
          "data": {
            "text/plain": [
              "((2467, 50), (2467,))"
            ]
          },
          "metadata": {},
          "execution_count": 52
        }
      ]
    },
    {
      "cell_type": "code",
      "source": [
        "X_train = X_train.reshape(2467,50,1)"
      ],
      "metadata": {
        "id": "bZoYB1hVBC_e"
      },
      "execution_count": null,
      "outputs": []
    },
    {
      "cell_type": "code",
      "source": [
        "y_train.shape,X_train.shape"
      ],
      "metadata": {
        "colab": {
          "base_uri": "https://localhost:8080/"
        },
        "id": "n7yQZCRH-iki",
        "outputId": "cf62ae34-ee1a-4c60-fba2-aa7265a83e45"
      },
      "execution_count": null,
      "outputs": [
        {
          "output_type": "execute_result",
          "data": {
            "text/plain": [
              "((2467,), (2467, 50, 1))"
            ]
          },
          "metadata": {},
          "execution_count": 19
        }
      ]
    },
    {
      "cell_type": "code",
      "source": [
        "model = keras.Sequential([\n",
        "    keras.layers.SimpleRNN(100, input_shape = (50,1), activation = \"relu\", return_sequences = False),\n",
        "    keras.layers.Dense(1, activation = \"linear\")\n",
        "])"
      ],
      "metadata": {
        "id": "7X5vJ-hR_0DO"
      },
      "execution_count": null,
      "outputs": []
    },
    {
      "cell_type": "code",
      "source": [
        "model.compile(optimizer = \"adam\", loss = \"mse\", metrics = \"accuracy\")"
      ],
      "metadata": {
        "id": "32RiF8VMCvpZ"
      },
      "execution_count": null,
      "outputs": []
    },
    {
      "cell_type": "code",
      "source": [
        "model.fit(X_train, y_train, epochs = 100, batch_size = 32)"
      ],
      "metadata": {
        "colab": {
          "base_uri": "https://localhost:8080/"
        },
        "id": "cWvI-vVcC8t8",
        "outputId": "ab31ba27-07f4-4a7d-ee58-47708fa36a06"
      },
      "execution_count": null,
      "outputs": [
        {
          "output_type": "stream",
          "name": "stdout",
          "text": [
            "Epoch 1/100\n",
            "78/78 [==============================] - 2s 12ms/step - loss: 0.0153 - accuracy: 8.1070e-04\n",
            "Epoch 2/100\n",
            "78/78 [==============================] - 1s 11ms/step - loss: 1.5861e-04 - accuracy: 8.1070e-04\n",
            "Epoch 3/100\n",
            "78/78 [==============================] - 1s 11ms/step - loss: 1.2727e-04 - accuracy: 8.1070e-04\n",
            "Epoch 4/100\n",
            "78/78 [==============================] - 2s 24ms/step - loss: 1.3648e-04 - accuracy: 8.1070e-04\n",
            "Epoch 5/100\n",
            "78/78 [==============================] - 3s 36ms/step - loss: 1.2405e-04 - accuracy: 8.1070e-04\n",
            "Epoch 6/100\n",
            "78/78 [==============================] - 1s 15ms/step - loss: 1.2244e-04 - accuracy: 8.1070e-04\n",
            "Epoch 7/100\n",
            "78/78 [==============================] - 1s 12ms/step - loss: 1.3291e-04 - accuracy: 8.1070e-04\n",
            "Epoch 8/100\n",
            "78/78 [==============================] - 1s 12ms/step - loss: 1.1750e-04 - accuracy: 8.1070e-04\n",
            "Epoch 9/100\n",
            "78/78 [==============================] - 1s 12ms/step - loss: 1.3734e-04 - accuracy: 8.1070e-04\n",
            "Epoch 10/100\n",
            "78/78 [==============================] - 1s 11ms/step - loss: 1.0748e-04 - accuracy: 8.1070e-04\n",
            "Epoch 11/100\n",
            "78/78 [==============================] - 1s 11ms/step - loss: 1.0490e-04 - accuracy: 8.1070e-04\n",
            "Epoch 12/100\n",
            "78/78 [==============================] - 1s 11ms/step - loss: 1.0624e-04 - accuracy: 8.1070e-04\n",
            "Epoch 13/100\n",
            "78/78 [==============================] - 1s 12ms/step - loss: 1.0167e-04 - accuracy: 8.1070e-04\n",
            "Epoch 14/100\n",
            "78/78 [==============================] - 1s 12ms/step - loss: 1.0445e-04 - accuracy: 8.1070e-04\n",
            "Epoch 15/100\n",
            "78/78 [==============================] - 1s 12ms/step - loss: 1.0307e-04 - accuracy: 8.1070e-04\n",
            "Epoch 16/100\n",
            "78/78 [==============================] - 1s 12ms/step - loss: 1.1921e-04 - accuracy: 8.1070e-04\n",
            "Epoch 17/100\n",
            "78/78 [==============================] - 1s 17ms/step - loss: 1.0385e-04 - accuracy: 8.1070e-04\n",
            "Epoch 18/100\n",
            "78/78 [==============================] - 2s 20ms/step - loss: 1.1050e-04 - accuracy: 8.1070e-04\n",
            "Epoch 19/100\n",
            "78/78 [==============================] - 2s 21ms/step - loss: 1.0747e-04 - accuracy: 8.1070e-04\n",
            "Epoch 20/100\n",
            "78/78 [==============================] - 1s 17ms/step - loss: 1.0367e-04 - accuracy: 8.1070e-04\n",
            "Epoch 21/100\n",
            "78/78 [==============================] - 1s 14ms/step - loss: 1.0302e-04 - accuracy: 8.1070e-04\n",
            "Epoch 22/100\n",
            "78/78 [==============================] - 1s 12ms/step - loss: 1.1121e-04 - accuracy: 8.1070e-04\n",
            "Epoch 23/100\n",
            "78/78 [==============================] - 1s 12ms/step - loss: 1.1703e-04 - accuracy: 8.1070e-04\n",
            "Epoch 24/100\n",
            "78/78 [==============================] - 1s 11ms/step - loss: 1.0703e-04 - accuracy: 8.1070e-04\n",
            "Epoch 25/100\n",
            "78/78 [==============================] - 1s 12ms/step - loss: 1.0812e-04 - accuracy: 8.1070e-04\n",
            "Epoch 26/100\n",
            "78/78 [==============================] - 1s 12ms/step - loss: 1.0932e-04 - accuracy: 8.1070e-04\n",
            "Epoch 27/100\n",
            "78/78 [==============================] - 1s 12ms/step - loss: 9.9645e-05 - accuracy: 8.1070e-04\n",
            "Epoch 28/100\n",
            "78/78 [==============================] - 1s 12ms/step - loss: 1.0277e-04 - accuracy: 8.1070e-04\n",
            "Epoch 29/100\n",
            "78/78 [==============================] - 1s 12ms/step - loss: 1.2495e-04 - accuracy: 8.1070e-04\n",
            "Epoch 30/100\n",
            "78/78 [==============================] - 1s 18ms/step - loss: 9.9712e-05 - accuracy: 8.1070e-04\n",
            "Epoch 31/100\n",
            "78/78 [==============================] - 2s 20ms/step - loss: 1.1592e-04 - accuracy: 8.1070e-04\n",
            "Epoch 32/100\n",
            "78/78 [==============================] - 2s 20ms/step - loss: 1.0811e-04 - accuracy: 8.1070e-04\n",
            "Epoch 33/100\n",
            "78/78 [==============================] - 1s 12ms/step - loss: 1.0532e-04 - accuracy: 8.1070e-04\n",
            "Epoch 34/100\n",
            "78/78 [==============================] - 1s 12ms/step - loss: 1.0251e-04 - accuracy: 8.1070e-04\n",
            "Epoch 35/100\n",
            "78/78 [==============================] - 1s 12ms/step - loss: 1.1517e-04 - accuracy: 8.1070e-04\n",
            "Epoch 36/100\n",
            "78/78 [==============================] - 1s 12ms/step - loss: 9.8426e-05 - accuracy: 8.1070e-04\n",
            "Epoch 37/100\n",
            "78/78 [==============================] - 1s 12ms/step - loss: 1.0410e-04 - accuracy: 8.1070e-04\n",
            "Epoch 38/100\n",
            "78/78 [==============================] - 1s 12ms/step - loss: 9.8736e-05 - accuracy: 8.1070e-04\n",
            "Epoch 39/100\n",
            "78/78 [==============================] - 1s 12ms/step - loss: 1.1536e-04 - accuracy: 8.1070e-04\n",
            "Epoch 40/100\n",
            "78/78 [==============================] - 1s 12ms/step - loss: 1.0498e-04 - accuracy: 8.1070e-04\n",
            "Epoch 41/100\n",
            "78/78 [==============================] - 1s 12ms/step - loss: 1.0285e-04 - accuracy: 8.1070e-04\n",
            "Epoch 42/100\n",
            "78/78 [==============================] - 1s 12ms/step - loss: 1.0936e-04 - accuracy: 8.1070e-04\n",
            "Epoch 43/100\n",
            "78/78 [==============================] - 1s 17ms/step - loss: 1.0919e-04 - accuracy: 8.1070e-04\n",
            "Epoch 44/100\n",
            "78/78 [==============================] - 2s 19ms/step - loss: 1.0256e-04 - accuracy: 8.1070e-04\n",
            "Epoch 45/100\n",
            "78/78 [==============================] - 2s 20ms/step - loss: 1.2225e-04 - accuracy: 8.1070e-04\n",
            "Epoch 46/100\n",
            "78/78 [==============================] - 1s 12ms/step - loss: 1.2194e-04 - accuracy: 8.1070e-04\n",
            "Epoch 47/100\n",
            "78/78 [==============================] - 1s 12ms/step - loss: 1.1905e-04 - accuracy: 8.1070e-04\n",
            "Epoch 48/100\n",
            "78/78 [==============================] - 1s 12ms/step - loss: 1.0945e-04 - accuracy: 8.1070e-04\n",
            "Epoch 49/100\n",
            "78/78 [==============================] - 1s 12ms/step - loss: 9.4700e-05 - accuracy: 8.1070e-04\n",
            "Epoch 50/100\n",
            "78/78 [==============================] - 1s 12ms/step - loss: 1.0018e-04 - accuracy: 8.1070e-04\n",
            "Epoch 51/100\n",
            "78/78 [==============================] - 1s 12ms/step - loss: 1.1458e-04 - accuracy: 8.1070e-04\n",
            "Epoch 52/100\n",
            "78/78 [==============================] - 1s 12ms/step - loss: 1.0242e-04 - accuracy: 8.1070e-04\n",
            "Epoch 53/100\n",
            "78/78 [==============================] - 1s 11ms/step - loss: 1.0688e-04 - accuracy: 8.1070e-04\n",
            "Epoch 54/100\n",
            "78/78 [==============================] - 1s 12ms/step - loss: 1.0052e-04 - accuracy: 8.1070e-04\n",
            "Epoch 55/100\n",
            "78/78 [==============================] - 1s 12ms/step - loss: 9.8917e-05 - accuracy: 8.1070e-04\n",
            "Epoch 56/100\n",
            "78/78 [==============================] - 1s 13ms/step - loss: 9.8787e-05 - accuracy: 8.1070e-04\n",
            "Epoch 57/100\n",
            "78/78 [==============================] - 2s 20ms/step - loss: 9.9547e-05 - accuracy: 8.1070e-04\n",
            "Epoch 58/100\n",
            "78/78 [==============================] - 1s 19ms/step - loss: 1.1160e-04 - accuracy: 8.1070e-04\n",
            "Epoch 59/100\n",
            "78/78 [==============================] - 1s 16ms/step - loss: 1.1410e-04 - accuracy: 8.1070e-04\n",
            "Epoch 60/100\n",
            "78/78 [==============================] - 1s 12ms/step - loss: 1.0661e-04 - accuracy: 8.1070e-04\n",
            "Epoch 61/100\n",
            "78/78 [==============================] - 1s 12ms/step - loss: 1.0284e-04 - accuracy: 8.1070e-04\n",
            "Epoch 62/100\n",
            "78/78 [==============================] - 1s 11ms/step - loss: 9.6870e-05 - accuracy: 8.1070e-04\n",
            "Epoch 63/100\n",
            "78/78 [==============================] - 1s 12ms/step - loss: 1.1726e-04 - accuracy: 8.1070e-04\n",
            "Epoch 64/100\n",
            "78/78 [==============================] - 1s 11ms/step - loss: 1.1978e-04 - accuracy: 8.1070e-04\n",
            "Epoch 65/100\n",
            "78/78 [==============================] - 1s 11ms/step - loss: 1.0134e-04 - accuracy: 8.1070e-04\n",
            "Epoch 66/100\n",
            "78/78 [==============================] - 1s 11ms/step - loss: 1.1269e-04 - accuracy: 8.1070e-04\n",
            "Epoch 67/100\n",
            "78/78 [==============================] - 1s 12ms/step - loss: 1.0266e-04 - accuracy: 8.1070e-04\n",
            "Epoch 68/100\n",
            "78/78 [==============================] - 1s 12ms/step - loss: 9.9152e-05 - accuracy: 8.1070e-04\n",
            "Epoch 69/100\n",
            "78/78 [==============================] - 1s 12ms/step - loss: 1.0554e-04 - accuracy: 8.1070e-04\n",
            "Epoch 70/100\n",
            "78/78 [==============================] - 1s 16ms/step - loss: 1.0060e-04 - accuracy: 8.1070e-04\n",
            "Epoch 71/100\n",
            "78/78 [==============================] - 2s 20ms/step - loss: 1.0500e-04 - accuracy: 8.1070e-04\n",
            "Epoch 72/100\n",
            "78/78 [==============================] - 2s 20ms/step - loss: 1.2002e-04 - accuracy: 8.1070e-04\n",
            "Epoch 73/100\n",
            "78/78 [==============================] - 1s 13ms/step - loss: 1.0949e-04 - accuracy: 8.1070e-04\n",
            "Epoch 74/100\n",
            "78/78 [==============================] - 1s 12ms/step - loss: 9.8812e-05 - accuracy: 8.1070e-04\n",
            "Epoch 75/100\n",
            "78/78 [==============================] - 1s 12ms/step - loss: 1.1218e-04 - accuracy: 8.1070e-04\n",
            "Epoch 76/100\n",
            "78/78 [==============================] - 1s 12ms/step - loss: 9.9481e-05 - accuracy: 8.1070e-04\n",
            "Epoch 77/100\n",
            "78/78 [==============================] - 1s 12ms/step - loss: 1.0093e-04 - accuracy: 8.1070e-04\n",
            "Epoch 78/100\n",
            "78/78 [==============================] - 1s 12ms/step - loss: 1.0192e-04 - accuracy: 8.1070e-04\n",
            "Epoch 79/100\n",
            "78/78 [==============================] - 1s 12ms/step - loss: 1.0479e-04 - accuracy: 8.1070e-04\n",
            "Epoch 80/100\n",
            "78/78 [==============================] - 1s 12ms/step - loss: 9.9412e-05 - accuracy: 8.1070e-04\n",
            "Epoch 81/100\n",
            "78/78 [==============================] - 1s 12ms/step - loss: 1.0582e-04 - accuracy: 8.1070e-04\n",
            "Epoch 82/100\n",
            "78/78 [==============================] - 1s 12ms/step - loss: 1.0093e-04 - accuracy: 8.1070e-04\n",
            "Epoch 83/100\n",
            "78/78 [==============================] - 1s 13ms/step - loss: 1.0413e-04 - accuracy: 8.1070e-04\n",
            "Epoch 84/100\n",
            "78/78 [==============================] - 2s 19ms/step - loss: 1.0047e-04 - accuracy: 8.1070e-04\n",
            "Epoch 85/100\n",
            "78/78 [==============================] - 2s 20ms/step - loss: 9.7662e-05 - accuracy: 8.1070e-04\n",
            "Epoch 86/100\n",
            "78/78 [==============================] - 1s 17ms/step - loss: 1.1048e-04 - accuracy: 8.1070e-04\n",
            "Epoch 87/100\n",
            "78/78 [==============================] - 1s 12ms/step - loss: 1.0479e-04 - accuracy: 8.1070e-04\n",
            "Epoch 88/100\n",
            "78/78 [==============================] - 1s 12ms/step - loss: 1.0037e-04 - accuracy: 8.1070e-04\n",
            "Epoch 89/100\n",
            "78/78 [==============================] - 1s 12ms/step - loss: 1.2156e-04 - accuracy: 8.1070e-04\n",
            "Epoch 90/100\n",
            "78/78 [==============================] - 1s 12ms/step - loss: 9.9503e-05 - accuracy: 8.1070e-04\n",
            "Epoch 91/100\n",
            "78/78 [==============================] - 1s 12ms/step - loss: 1.1241e-04 - accuracy: 8.1070e-04\n",
            "Epoch 92/100\n",
            "78/78 [==============================] - 1s 12ms/step - loss: 1.0104e-04 - accuracy: 8.1070e-04\n",
            "Epoch 93/100\n",
            "78/78 [==============================] - 1s 12ms/step - loss: 9.6528e-05 - accuracy: 8.1070e-04\n",
            "Epoch 94/100\n",
            "78/78 [==============================] - 1s 12ms/step - loss: 9.7995e-05 - accuracy: 8.1070e-04\n",
            "Epoch 95/100\n",
            "78/78 [==============================] - 1s 12ms/step - loss: 9.4527e-05 - accuracy: 8.1070e-04\n",
            "Epoch 96/100\n",
            "78/78 [==============================] - 1s 12ms/step - loss: 1.0218e-04 - accuracy: 8.1070e-04\n",
            "Epoch 97/100\n",
            "78/78 [==============================] - 1s 18ms/step - loss: 1.0686e-04 - accuracy: 8.1070e-04\n",
            "Epoch 98/100\n",
            "78/78 [==============================] - 2s 20ms/step - loss: 9.9194e-05 - accuracy: 8.1070e-04\n",
            "Epoch 99/100\n",
            "78/78 [==============================] - 2s 20ms/step - loss: 1.0757e-04 - accuracy: 8.1070e-04\n",
            "Epoch 100/100\n",
            "78/78 [==============================] - 1s 12ms/step - loss: 1.0777e-04 - accuracy: 8.1070e-04\n"
          ]
        },
        {
          "output_type": "execute_result",
          "data": {
            "text/plain": [
              "<keras.src.callbacks.History at 0x7c5564544ee0>"
            ]
          },
          "metadata": {},
          "execution_count": 62
        }
      ]
    },
    {
      "cell_type": "code",
      "source": [
        "model.summary()"
      ],
      "metadata": {
        "colab": {
          "base_uri": "https://localhost:8080/"
        },
        "id": "LuybsG2MCR_H",
        "outputId": "4ba6dbff-e022-49db-d6a6-43dc128b9c61"
      },
      "execution_count": null,
      "outputs": [
        {
          "output_type": "stream",
          "name": "stdout",
          "text": [
            "Model: \"sequential_1\"\n",
            "_________________________________________________________________\n",
            " Layer (type)                Output Shape              Param #   \n",
            "=================================================================\n",
            " simple_rnn_1 (SimpleRNN)    (None, 100)               10200     \n",
            "                                                                 \n",
            " dense_1 (Dense)             (None, 1)                 101       \n",
            "                                                                 \n",
            "=================================================================\n",
            "Total params: 10301 (40.24 KB)\n",
            "Trainable params: 10301 (40.24 KB)\n",
            "Non-trainable params: 0 (0.00 Byte)\n",
            "_________________________________________________________________\n"
          ]
        }
      ]
    },
    {
      "cell_type": "code",
      "source": [
        "X_test.shape"
      ],
      "metadata": {
        "colab": {
          "base_uri": "https://localhost:8080/"
        },
        "id": "lPbC0MSMBhhI",
        "outputId": "95f3b37c-007a-4a63-fb59-7f0d17a391bb"
      },
      "execution_count": null,
      "outputs": [
        {
          "output_type": "execute_result",
          "data": {
            "text/plain": [
              "(202, 50)"
            ]
          },
          "metadata": {},
          "execution_count": 64
        }
      ]
    },
    {
      "cell_type": "code",
      "source": [
        "model.evaluate(X_test, y_test)"
      ],
      "metadata": {
        "id": "-JDG73jZDL9D",
        "colab": {
          "base_uri": "https://localhost:8080/"
        },
        "outputId": "7380dbc4-6e9d-4807-e686-46e64dae5924"
      },
      "execution_count": null,
      "outputs": [
        {
          "output_type": "stream",
          "name": "stdout",
          "text": [
            "7/7 [==============================] - 0s 7ms/step - loss: 0.0019 - accuracy: 0.0050\n"
          ]
        },
        {
          "output_type": "execute_result",
          "data": {
            "text/plain": [
              "[0.0018769699381664395, 0.004950494971126318]"
            ]
          },
          "metadata": {},
          "execution_count": 65
        }
      ]
    },
    {
      "cell_type": "code",
      "source": [
        "model2 = keras.Sequential([\n",
        "    keras.layers.LSTM(100, input_shape = (50,1), activation = \"relu\", return_sequences = False),\n",
        "    keras.layers.Dense(1, activation = \"linear\")\n",
        "])"
      ],
      "metadata": {
        "id": "KFL8IWfwAoB1"
      },
      "execution_count": null,
      "outputs": []
    },
    {
      "cell_type": "code",
      "source": [
        "model2.summary()"
      ],
      "metadata": {
        "colab": {
          "base_uri": "https://localhost:8080/"
        },
        "id": "_l-TnyELBbFr",
        "outputId": "fe00d1b9-fc72-4474-d91d-26155074ebd7"
      },
      "execution_count": null,
      "outputs": [
        {
          "output_type": "stream",
          "name": "stdout",
          "text": [
            "Model: \"sequential_2\"\n",
            "_________________________________________________________________\n",
            " Layer (type)                Output Shape              Param #   \n",
            "=================================================================\n",
            " lstm (LSTM)                 (None, 100)               40800     \n",
            "                                                                 \n",
            " dense_2 (Dense)             (None, 1)                 101       \n",
            "                                                                 \n",
            "=================================================================\n",
            "Total params: 40901 (159.77 KB)\n",
            "Trainable params: 40901 (159.77 KB)\n",
            "Non-trainable params: 0 (0.00 Byte)\n",
            "_________________________________________________________________\n"
          ]
        }
      ]
    },
    {
      "cell_type": "code",
      "source": [
        "model2.compile(optimizer = \"adam\", loss = \"mse\", metrics = \"accuracy\")"
      ],
      "metadata": {
        "id": "RUe0BOKkBexs"
      },
      "execution_count": null,
      "outputs": []
    },
    {
      "cell_type": "code",
      "source": [
        "model2.fit(X_train, y_train, epochs = 50, batch_size = 32)"
      ],
      "metadata": {
        "colab": {
          "base_uri": "https://localhost:8080/"
        },
        "id": "UMGrGeSbEi5P",
        "outputId": "508957f5-e14e-4258-d363-6a801bb4627f"
      },
      "execution_count": null,
      "outputs": [
        {
          "output_type": "stream",
          "name": "stdout",
          "text": [
            "Epoch 1/50\n",
            "78/78 [==============================] - 4s 30ms/step - loss: 0.0291 - accuracy: 8.1070e-04\n",
            "Epoch 2/50\n",
            "78/78 [==============================] - 2s 30ms/step - loss: 4.2437e-04 - accuracy: 8.1070e-04\n",
            "Epoch 3/50\n",
            "78/78 [==============================] - 2s 30ms/step - loss: 3.4404e-04 - accuracy: 8.1070e-04\n",
            "Epoch 4/50\n",
            "78/78 [==============================] - 2s 30ms/step - loss: 2.9929e-04 - accuracy: 8.1070e-04\n",
            "Epoch 5/50\n",
            "78/78 [==============================] - 3s 43ms/step - loss: 2.9089e-04 - accuracy: 8.1070e-04\n",
            "Epoch 6/50\n",
            "78/78 [==============================] - 3s 32ms/step - loss: 2.9676e-04 - accuracy: 8.1070e-04\n",
            "Epoch 7/50\n",
            "78/78 [==============================] - 3s 35ms/step - loss: 2.3183e-04 - accuracy: 8.1070e-04\n",
            "Epoch 8/50\n",
            "78/78 [==============================] - 2s 30ms/step - loss: 2.5296e-04 - accuracy: 8.1070e-04\n",
            "Epoch 9/50\n",
            "78/78 [==============================] - 2s 30ms/step - loss: 2.3029e-04 - accuracy: 8.1070e-04\n",
            "Epoch 10/50\n",
            "78/78 [==============================] - 3s 40ms/step - loss: 2.1966e-04 - accuracy: 8.1070e-04\n",
            "Epoch 11/50\n",
            "78/78 [==============================] - 4s 47ms/step - loss: 2.5401e-04 - accuracy: 8.1070e-04\n",
            "Epoch 12/50\n",
            "78/78 [==============================] - 2s 30ms/step - loss: 2.2655e-04 - accuracy: 8.1070e-04\n",
            "Epoch 13/50\n",
            "78/78 [==============================] - 2s 30ms/step - loss: 1.9010e-04 - accuracy: 8.1070e-04\n",
            "Epoch 14/50\n",
            "78/78 [==============================] - 2s 29ms/step - loss: 2.1613e-04 - accuracy: 8.1070e-04\n",
            "Epoch 15/50\n",
            "78/78 [==============================] - 3s 37ms/step - loss: 1.7682e-04 - accuracy: 8.1070e-04\n",
            "Epoch 16/50\n",
            "78/78 [==============================] - 3s 38ms/step - loss: 2.2625e-04 - accuracy: 8.1070e-04\n",
            "Epoch 17/50\n",
            "78/78 [==============================] - 2s 30ms/step - loss: 1.6942e-04 - accuracy: 8.1070e-04\n",
            "Epoch 18/50\n",
            "78/78 [==============================] - 2s 30ms/step - loss: 1.9991e-04 - accuracy: 8.1070e-04\n",
            "Epoch 19/50\n",
            "78/78 [==============================] - 2s 30ms/step - loss: 1.6168e-04 - accuracy: 8.1070e-04\n",
            "Epoch 20/50\n",
            "78/78 [==============================] - 3s 32ms/step - loss: 1.5562e-04 - accuracy: 8.1070e-04\n",
            "Epoch 21/50\n",
            "78/78 [==============================] - 4s 47ms/step - loss: 1.5310e-04 - accuracy: 8.1070e-04\n",
            "Epoch 22/50\n",
            "78/78 [==============================] - 3s 31ms/step - loss: 1.4997e-04 - accuracy: 8.1070e-04\n",
            "Epoch 23/50\n",
            "78/78 [==============================] - 2s 30ms/step - loss: 1.4277e-04 - accuracy: 8.1070e-04\n",
            "Epoch 24/50\n",
            "78/78 [==============================] - 2s 30ms/step - loss: 1.4026e-04 - accuracy: 8.1070e-04\n",
            "Epoch 25/50\n",
            "78/78 [==============================] - 2s 30ms/step - loss: 1.7291e-04 - accuracy: 8.1070e-04\n",
            "Epoch 26/50\n",
            "78/78 [==============================] - 3s 42ms/step - loss: 1.4125e-04 - accuracy: 8.1070e-04\n",
            "Epoch 27/50\n",
            "78/78 [==============================] - 3s 34ms/step - loss: 1.5901e-04 - accuracy: 8.1070e-04\n",
            "Epoch 28/50\n",
            "78/78 [==============================] - 2s 29ms/step - loss: 1.3027e-04 - accuracy: 8.1070e-04\n",
            "Epoch 29/50\n",
            "78/78 [==============================] - 2s 30ms/step - loss: 1.4200e-04 - accuracy: 8.1070e-04\n",
            "Epoch 30/50\n",
            "78/78 [==============================] - 2s 30ms/step - loss: 1.3640e-04 - accuracy: 8.1070e-04\n",
            "Epoch 31/50\n",
            "78/78 [==============================] - 3s 36ms/step - loss: 1.2764e-04 - accuracy: 8.1070e-04\n",
            "Epoch 32/50\n",
            "78/78 [==============================] - 3s 40ms/step - loss: 1.3493e-04 - accuracy: 8.1070e-04\n",
            "Epoch 33/50\n",
            "78/78 [==============================] - 2s 29ms/step - loss: 1.4928e-04 - accuracy: 8.1070e-04\n",
            "Epoch 34/50\n",
            "78/78 [==============================] - 2s 29ms/step - loss: 1.4931e-04 - accuracy: 8.1070e-04\n",
            "Epoch 35/50\n",
            "78/78 [==============================] - 2s 30ms/step - loss: 1.2623e-04 - accuracy: 8.1070e-04\n",
            "Epoch 36/50\n",
            "78/78 [==============================] - 2s 30ms/step - loss: 1.1587e-04 - accuracy: 8.1070e-04\n",
            "Epoch 37/50\n",
            "78/78 [==============================] - 3s 43ms/step - loss: 1.4310e-04 - accuracy: 8.1070e-04\n",
            "Epoch 38/50\n",
            "78/78 [==============================] - 3s 32ms/step - loss: 1.2775e-04 - accuracy: 8.1070e-04\n",
            "Epoch 39/50\n",
            "78/78 [==============================] - 2s 29ms/step - loss: 1.3098e-04 - accuracy: 8.1070e-04\n",
            "Epoch 40/50\n",
            "78/78 [==============================] - 2s 30ms/step - loss: 1.2725e-04 - accuracy: 8.1070e-04\n",
            "Epoch 41/50\n",
            "78/78 [==============================] - 2s 30ms/step - loss: 1.3402e-04 - accuracy: 8.1070e-04\n",
            "Epoch 42/50\n",
            "78/78 [==============================] - 3s 37ms/step - loss: 1.2791e-04 - accuracy: 8.1070e-04\n",
            "Epoch 43/50\n",
            "78/78 [==============================] - 3s 40ms/step - loss: 1.4833e-04 - accuracy: 8.1070e-04\n",
            "Epoch 44/50\n",
            "78/78 [==============================] - 2s 30ms/step - loss: 1.1589e-04 - accuracy: 8.1070e-04\n",
            "Epoch 45/50\n",
            "78/78 [==============================] - 2s 30ms/step - loss: 1.1738e-04 - accuracy: 8.1070e-04\n",
            "Epoch 46/50\n",
            "78/78 [==============================] - 2s 30ms/step - loss: 1.2854e-04 - accuracy: 8.1070e-04\n",
            "Epoch 47/50\n",
            "78/78 [==============================] - 2s 30ms/step - loss: 1.3429e-04 - accuracy: 8.1070e-04\n",
            "Epoch 48/50\n",
            "78/78 [==============================] - 4s 45ms/step - loss: 1.1952e-04 - accuracy: 8.1070e-04\n",
            "Epoch 49/50\n",
            "78/78 [==============================] - 2s 31ms/step - loss: 1.1404e-04 - accuracy: 8.1070e-04\n",
            "Epoch 50/50\n",
            "78/78 [==============================] - 2s 29ms/step - loss: 1.2992e-04 - accuracy: 8.1070e-04\n"
          ]
        },
        {
          "output_type": "execute_result",
          "data": {
            "text/plain": [
              "<keras.src.callbacks.History at 0x7c5564511960>"
            ]
          },
          "metadata": {},
          "execution_count": 70
        }
      ]
    },
    {
      "cell_type": "code",
      "source": [],
      "metadata": {
        "id": "WRvvy2yyEvRQ"
      },
      "execution_count": null,
      "outputs": []
    },
    {
      "cell_type": "code",
      "source": [
        "df = pd.read_csv(\"/content/drive/MyDrive/HistoricalData_1713510106646.csv\")"
      ],
      "metadata": {
        "id": "A8TP3eGFLsXz"
      },
      "execution_count": null,
      "outputs": []
    },
    {
      "cell_type": "code",
      "source": [
        "df.head()"
      ],
      "metadata": {
        "colab": {
          "base_uri": "https://localhost:8080/",
          "height": 206
        },
        "id": "g-jdU57QL2LP",
        "outputId": "243186f3-0326-405e-b71c-9333bcd80dab"
      },
      "execution_count": null,
      "outputs": [
        {
          "output_type": "execute_result",
          "data": {
            "text/plain": [
              "         Date  Close/Last    Volume    Open    High     Low\n",
              "0  04/18/2024      2398.0  195493.0  2377.9  2408.0  2377.2\n",
              "1  04/17/2024      2388.4  279551.0  2398.0  2412.0  2370.7\n",
              "2  04/16/2024      2407.8  290700.0  2399.1  2414.8  2379.2\n",
              "3  04/15/2024      2383.0  336608.0  2369.4  2404.3  2340.2\n",
              "4  04/12/2024      2374.1  463075.0  2389.4  2448.8  2350.6"
            ],
            "text/html": [
              "\n",
              "  <div id=\"df-8f0f0697-819c-40b3-a9f8-0a767bdacea9\" class=\"colab-df-container\">\n",
              "    <div>\n",
              "<style scoped>\n",
              "    .dataframe tbody tr th:only-of-type {\n",
              "        vertical-align: middle;\n",
              "    }\n",
              "\n",
              "    .dataframe tbody tr th {\n",
              "        vertical-align: top;\n",
              "    }\n",
              "\n",
              "    .dataframe thead th {\n",
              "        text-align: right;\n",
              "    }\n",
              "</style>\n",
              "<table border=\"1\" class=\"dataframe\">\n",
              "  <thead>\n",
              "    <tr style=\"text-align: right;\">\n",
              "      <th></th>\n",
              "      <th>Date</th>\n",
              "      <th>Close/Last</th>\n",
              "      <th>Volume</th>\n",
              "      <th>Open</th>\n",
              "      <th>High</th>\n",
              "      <th>Low</th>\n",
              "    </tr>\n",
              "  </thead>\n",
              "  <tbody>\n",
              "    <tr>\n",
              "      <th>0</th>\n",
              "      <td>04/18/2024</td>\n",
              "      <td>2398.0</td>\n",
              "      <td>195493.0</td>\n",
              "      <td>2377.9</td>\n",
              "      <td>2408.0</td>\n",
              "      <td>2377.2</td>\n",
              "    </tr>\n",
              "    <tr>\n",
              "      <th>1</th>\n",
              "      <td>04/17/2024</td>\n",
              "      <td>2388.4</td>\n",
              "      <td>279551.0</td>\n",
              "      <td>2398.0</td>\n",
              "      <td>2412.0</td>\n",
              "      <td>2370.7</td>\n",
              "    </tr>\n",
              "    <tr>\n",
              "      <th>2</th>\n",
              "      <td>04/16/2024</td>\n",
              "      <td>2407.8</td>\n",
              "      <td>290700.0</td>\n",
              "      <td>2399.1</td>\n",
              "      <td>2414.8</td>\n",
              "      <td>2379.2</td>\n",
              "    </tr>\n",
              "    <tr>\n",
              "      <th>3</th>\n",
              "      <td>04/15/2024</td>\n",
              "      <td>2383.0</td>\n",
              "      <td>336608.0</td>\n",
              "      <td>2369.4</td>\n",
              "      <td>2404.3</td>\n",
              "      <td>2340.2</td>\n",
              "    </tr>\n",
              "    <tr>\n",
              "      <th>4</th>\n",
              "      <td>04/12/2024</td>\n",
              "      <td>2374.1</td>\n",
              "      <td>463075.0</td>\n",
              "      <td>2389.4</td>\n",
              "      <td>2448.8</td>\n",
              "      <td>2350.6</td>\n",
              "    </tr>\n",
              "  </tbody>\n",
              "</table>\n",
              "</div>\n",
              "    <div class=\"colab-df-buttons\">\n",
              "\n",
              "  <div class=\"colab-df-container\">\n",
              "    <button class=\"colab-df-convert\" onclick=\"convertToInteractive('df-8f0f0697-819c-40b3-a9f8-0a767bdacea9')\"\n",
              "            title=\"Convert this dataframe to an interactive table.\"\n",
              "            style=\"display:none;\">\n",
              "\n",
              "  <svg xmlns=\"http://www.w3.org/2000/svg\" height=\"24px\" viewBox=\"0 -960 960 960\">\n",
              "    <path d=\"M120-120v-720h720v720H120Zm60-500h600v-160H180v160Zm220 220h160v-160H400v160Zm0 220h160v-160H400v160ZM180-400h160v-160H180v160Zm440 0h160v-160H620v160ZM180-180h160v-160H180v160Zm440 0h160v-160H620v160Z\"/>\n",
              "  </svg>\n",
              "    </button>\n",
              "\n",
              "  <style>\n",
              "    .colab-df-container {\n",
              "      display:flex;\n",
              "      gap: 12px;\n",
              "    }\n",
              "\n",
              "    .colab-df-convert {\n",
              "      background-color: #E8F0FE;\n",
              "      border: none;\n",
              "      border-radius: 50%;\n",
              "      cursor: pointer;\n",
              "      display: none;\n",
              "      fill: #1967D2;\n",
              "      height: 32px;\n",
              "      padding: 0 0 0 0;\n",
              "      width: 32px;\n",
              "    }\n",
              "\n",
              "    .colab-df-convert:hover {\n",
              "      background-color: #E2EBFA;\n",
              "      box-shadow: 0px 1px 2px rgba(60, 64, 67, 0.3), 0px 1px 3px 1px rgba(60, 64, 67, 0.15);\n",
              "      fill: #174EA6;\n",
              "    }\n",
              "\n",
              "    .colab-df-buttons div {\n",
              "      margin-bottom: 4px;\n",
              "    }\n",
              "\n",
              "    [theme=dark] .colab-df-convert {\n",
              "      background-color: #3B4455;\n",
              "      fill: #D2E3FC;\n",
              "    }\n",
              "\n",
              "    [theme=dark] .colab-df-convert:hover {\n",
              "      background-color: #434B5C;\n",
              "      box-shadow: 0px 1px 3px 1px rgba(0, 0, 0, 0.15);\n",
              "      filter: drop-shadow(0px 1px 2px rgba(0, 0, 0, 0.3));\n",
              "      fill: #FFFFFF;\n",
              "    }\n",
              "  </style>\n",
              "\n",
              "    <script>\n",
              "      const buttonEl =\n",
              "        document.querySelector('#df-8f0f0697-819c-40b3-a9f8-0a767bdacea9 button.colab-df-convert');\n",
              "      buttonEl.style.display =\n",
              "        google.colab.kernel.accessAllowed ? 'block' : 'none';\n",
              "\n",
              "      async function convertToInteractive(key) {\n",
              "        const element = document.querySelector('#df-8f0f0697-819c-40b3-a9f8-0a767bdacea9');\n",
              "        const dataTable =\n",
              "          await google.colab.kernel.invokeFunction('convertToInteractive',\n",
              "                                                    [key], {});\n",
              "        if (!dataTable) return;\n",
              "\n",
              "        const docLinkHtml = 'Like what you see? Visit the ' +\n",
              "          '<a target=\"_blank\" href=https://colab.research.google.com/notebooks/data_table.ipynb>data table notebook</a>'\n",
              "          + ' to learn more about interactive tables.';\n",
              "        element.innerHTML = '';\n",
              "        dataTable['output_type'] = 'display_data';\n",
              "        await google.colab.output.renderOutput(dataTable, element);\n",
              "        const docLink = document.createElement('div');\n",
              "        docLink.innerHTML = docLinkHtml;\n",
              "        element.appendChild(docLink);\n",
              "      }\n",
              "    </script>\n",
              "  </div>\n",
              "\n",
              "\n",
              "<div id=\"df-0c2f8e3a-06a0-4148-9b45-6d91e0659887\">\n",
              "  <button class=\"colab-df-quickchart\" onclick=\"quickchart('df-0c2f8e3a-06a0-4148-9b45-6d91e0659887')\"\n",
              "            title=\"Suggest charts\"\n",
              "            style=\"display:none;\">\n",
              "\n",
              "<svg xmlns=\"http://www.w3.org/2000/svg\" height=\"24px\"viewBox=\"0 0 24 24\"\n",
              "     width=\"24px\">\n",
              "    <g>\n",
              "        <path d=\"M19 3H5c-1.1 0-2 .9-2 2v14c0 1.1.9 2 2 2h14c1.1 0 2-.9 2-2V5c0-1.1-.9-2-2-2zM9 17H7v-7h2v7zm4 0h-2V7h2v10zm4 0h-2v-4h2v4z\"/>\n",
              "    </g>\n",
              "</svg>\n",
              "  </button>\n",
              "\n",
              "<style>\n",
              "  .colab-df-quickchart {\n",
              "      --bg-color: #E8F0FE;\n",
              "      --fill-color: #1967D2;\n",
              "      --hover-bg-color: #E2EBFA;\n",
              "      --hover-fill-color: #174EA6;\n",
              "      --disabled-fill-color: #AAA;\n",
              "      --disabled-bg-color: #DDD;\n",
              "  }\n",
              "\n",
              "  [theme=dark] .colab-df-quickchart {\n",
              "      --bg-color: #3B4455;\n",
              "      --fill-color: #D2E3FC;\n",
              "      --hover-bg-color: #434B5C;\n",
              "      --hover-fill-color: #FFFFFF;\n",
              "      --disabled-bg-color: #3B4455;\n",
              "      --disabled-fill-color: #666;\n",
              "  }\n",
              "\n",
              "  .colab-df-quickchart {\n",
              "    background-color: var(--bg-color);\n",
              "    border: none;\n",
              "    border-radius: 50%;\n",
              "    cursor: pointer;\n",
              "    display: none;\n",
              "    fill: var(--fill-color);\n",
              "    height: 32px;\n",
              "    padding: 0;\n",
              "    width: 32px;\n",
              "  }\n",
              "\n",
              "  .colab-df-quickchart:hover {\n",
              "    background-color: var(--hover-bg-color);\n",
              "    box-shadow: 0 1px 2px rgba(60, 64, 67, 0.3), 0 1px 3px 1px rgba(60, 64, 67, 0.15);\n",
              "    fill: var(--button-hover-fill-color);\n",
              "  }\n",
              "\n",
              "  .colab-df-quickchart-complete:disabled,\n",
              "  .colab-df-quickchart-complete:disabled:hover {\n",
              "    background-color: var(--disabled-bg-color);\n",
              "    fill: var(--disabled-fill-color);\n",
              "    box-shadow: none;\n",
              "  }\n",
              "\n",
              "  .colab-df-spinner {\n",
              "    border: 2px solid var(--fill-color);\n",
              "    border-color: transparent;\n",
              "    border-bottom-color: var(--fill-color);\n",
              "    animation:\n",
              "      spin 1s steps(1) infinite;\n",
              "  }\n",
              "\n",
              "  @keyframes spin {\n",
              "    0% {\n",
              "      border-color: transparent;\n",
              "      border-bottom-color: var(--fill-color);\n",
              "      border-left-color: var(--fill-color);\n",
              "    }\n",
              "    20% {\n",
              "      border-color: transparent;\n",
              "      border-left-color: var(--fill-color);\n",
              "      border-top-color: var(--fill-color);\n",
              "    }\n",
              "    30% {\n",
              "      border-color: transparent;\n",
              "      border-left-color: var(--fill-color);\n",
              "      border-top-color: var(--fill-color);\n",
              "      border-right-color: var(--fill-color);\n",
              "    }\n",
              "    40% {\n",
              "      border-color: transparent;\n",
              "      border-right-color: var(--fill-color);\n",
              "      border-top-color: var(--fill-color);\n",
              "    }\n",
              "    60% {\n",
              "      border-color: transparent;\n",
              "      border-right-color: var(--fill-color);\n",
              "    }\n",
              "    80% {\n",
              "      border-color: transparent;\n",
              "      border-right-color: var(--fill-color);\n",
              "      border-bottom-color: var(--fill-color);\n",
              "    }\n",
              "    90% {\n",
              "      border-color: transparent;\n",
              "      border-bottom-color: var(--fill-color);\n",
              "    }\n",
              "  }\n",
              "</style>\n",
              "\n",
              "  <script>\n",
              "    async function quickchart(key) {\n",
              "      const quickchartButtonEl =\n",
              "        document.querySelector('#' + key + ' button');\n",
              "      quickchartButtonEl.disabled = true;  // To prevent multiple clicks.\n",
              "      quickchartButtonEl.classList.add('colab-df-spinner');\n",
              "      try {\n",
              "        const charts = await google.colab.kernel.invokeFunction(\n",
              "            'suggestCharts', [key], {});\n",
              "      } catch (error) {\n",
              "        console.error('Error during call to suggestCharts:', error);\n",
              "      }\n",
              "      quickchartButtonEl.classList.remove('colab-df-spinner');\n",
              "      quickchartButtonEl.classList.add('colab-df-quickchart-complete');\n",
              "    }\n",
              "    (() => {\n",
              "      let quickchartButtonEl =\n",
              "        document.querySelector('#df-0c2f8e3a-06a0-4148-9b45-6d91e0659887 button');\n",
              "      quickchartButtonEl.style.display =\n",
              "        google.colab.kernel.accessAllowed ? 'block' : 'none';\n",
              "    })();\n",
              "  </script>\n",
              "</div>\n",
              "\n",
              "    </div>\n",
              "  </div>\n"
            ],
            "application/vnd.google.colaboratory.intrinsic+json": {
              "type": "dataframe",
              "variable_name": "df",
              "summary": "{\n  \"name\": \"df\",\n  \"rows\": 1258,\n  \"fields\": [\n    {\n      \"column\": \"Date\",\n      \"properties\": {\n        \"dtype\": \"object\",\n        \"num_unique_values\": 1258,\n        \"samples\": [\n          \"01/24/2022\",\n          \"11/21/2023\",\n          \"02/05/2024\"\n        ],\n        \"semantic_type\": \"\",\n        \"description\": \"\"\n      }\n    },\n    {\n      \"column\": \"Close/Last\",\n      \"properties\": {\n        \"dtype\": \"number\",\n        \"std\": 196.49399716790805,\n        \"min\": 1272.0,\n        \"max\": 2407.8,\n        \"num_unique_values\": 1135,\n        \"samples\": [\n          1951.7,\n          1768.9,\n          1769.2\n        ],\n        \"semantic_type\": \"\",\n        \"description\": \"\"\n      }\n    },\n    {\n      \"column\": \"Volume\",\n      \"properties\": {\n        \"dtype\": \"number\",\n        \"std\": 104763.78017599476,\n        \"min\": 1.0,\n        \"max\": 787217.0,\n        \"num_unique_values\": 1248,\n        \"samples\": [\n          157414.0,\n          260044.0,\n          196763.0\n        ],\n        \"semantic_type\": \"\",\n        \"description\": \"\"\n      }\n    },\n    {\n      \"column\": \"Open\",\n      \"properties\": {\n        \"dtype\": \"number\",\n        \"std\": 196.70444181467948,\n        \"min\": 1271.6,\n        \"max\": 2399.1,\n        \"num_unique_values\": 1119,\n        \"samples\": [\n          2022.1,\n          1963.0,\n          1480.6\n        ],\n        \"semantic_type\": \"\",\n        \"description\": \"\"\n      }\n    },\n    {\n      \"column\": \"High\",\n      \"properties\": {\n        \"dtype\": \"number\",\n        \"std\": 198.46134817581486,\n        \"min\": 1277.1,\n        \"max\": 2448.8,\n        \"num_unique_values\": 1135,\n        \"samples\": [\n          1913.8,\n          1725.0,\n          1774.4\n        ],\n        \"semantic_type\": \"\",\n        \"description\": \"\"\n      }\n    },\n    {\n      \"column\": \"Low\",\n      \"properties\": {\n        \"dtype\": \"number\",\n        \"std\": 195.0191734793033,\n        \"min\": 1267.3,\n        \"max\": 2379.2,\n        \"num_unique_values\": 1120,\n        \"samples\": [\n          2016.5,\n          1938.8,\n          1481.2\n        ],\n        \"semantic_type\": \"\",\n        \"description\": \"\"\n      }\n    }\n  ]\n}"
            }
          },
          "metadata": {},
          "execution_count": 3
        }
      ]
    },
    {
      "cell_type": "code",
      "source": [
        "df_close = df.iloc[:,1:2].values"
      ],
      "metadata": {
        "id": "M3b-1554L3qi"
      },
      "execution_count": null,
      "outputs": []
    },
    {
      "cell_type": "code",
      "source": [
        "df_close.shape"
      ],
      "metadata": {
        "colab": {
          "base_uri": "https://localhost:8080/"
        },
        "id": "_dUQiV28MfPG",
        "outputId": "c2a51692-87ac-4d28-9c65-f0c9814fbb62"
      },
      "execution_count": null,
      "outputs": [
        {
          "output_type": "execute_result",
          "data": {
            "text/plain": [
              "(1258, 1)"
            ]
          },
          "metadata": {},
          "execution_count": 6
        }
      ]
    },
    {
      "cell_type": "code",
      "source": [
        "df_test = df_close[:258,:]\n",
        "df_train = df_close[258:,:]"
      ],
      "metadata": {
        "id": "Io8TagYHMhyX"
      },
      "execution_count": null,
      "outputs": []
    },
    {
      "cell_type": "code",
      "source": [
        "df_test.shape, df_train.shape"
      ],
      "metadata": {
        "colab": {
          "base_uri": "https://localhost:8080/"
        },
        "id": "nphgj393M1uR",
        "outputId": "d589a2ad-477a-4013-f42c-b6696b2710fe"
      },
      "execution_count": null,
      "outputs": [
        {
          "output_type": "execute_result",
          "data": {
            "text/plain": [
              "((258, 1), (1000, 1))"
            ]
          },
          "metadata": {},
          "execution_count": 15
        }
      ]
    },
    {
      "cell_type": "code",
      "source": [
        "df_train"
      ],
      "metadata": {
        "id": "d6ok9UXFNBVG"
      },
      "execution_count": null,
      "outputs": []
    },
    {
      "cell_type": "code",
      "source": [],
      "metadata": {
        "id": "vQ5EB93vN8dt"
      },
      "execution_count": null,
      "outputs": []
    },
    {
      "cell_type": "code",
      "source": [
        "df_train = scaler.fit_transform(df_train)\n",
        "df_test = scaler.fit_transform(df_test)"
      ],
      "metadata": {
        "id": "LKTQ_2IcNKi1"
      },
      "execution_count": null,
      "outputs": []
    },
    {
      "cell_type": "code",
      "source": [
        "df_train[:5,:]"
      ],
      "metadata": {
        "colab": {
          "base_uri": "https://localhost:8080/"
        },
        "id": "Ul4GfLmYRxd5",
        "outputId": "5dda6fe5-5f62-4d63-d601-21f0860ea7ec"
      },
      "execution_count": null,
      "outputs": [
        {
          "output_type": "execute_result",
          "data": {
            "text/plain": [
              "array([[0.91773263],\n",
              "       [0.94607474],\n",
              "       [0.93917733],\n",
              "       [0.94080762],\n",
              "       [0.89277652]])"
            ]
          },
          "metadata": {},
          "execution_count": 37
        }
      ]
    },
    {
      "cell_type": "code",
      "source": [
        "X_train = []\n",
        "y_train = []\n",
        "X_test = []\n",
        "y_test = []"
      ],
      "metadata": {
        "id": "6MJskIRZOQ6w"
      },
      "execution_count": null,
      "outputs": []
    },
    {
      "cell_type": "code",
      "source": [
        "for i in range(25,1000):\n",
        "  X_train.append(df_train[i-25:i,0])\n",
        "  y_train.append(df_train[i,0])\n",
        "\n",
        "X_train = np.array(X_train)\n",
        "y_train = np.array(y_train)\n"
      ],
      "metadata": {
        "id": "cwwKcKISPQuL"
      },
      "execution_count": null,
      "outputs": []
    },
    {
      "cell_type": "code",
      "source": [
        "for i in range(25,258):\n",
        "  X_test.append(df_test[i-25:i,0])\n",
        "  y_test.append(df_test[i,0])\n",
        "\n",
        "X_test = np.array(X_test)\n",
        "y_test = np.array(y_test)"
      ],
      "metadata": {
        "id": "kf0KxWMiPbNG"
      },
      "execution_count": null,
      "outputs": []
    },
    {
      "cell_type": "code",
      "source": [
        "X_train.shape, y_train.shape"
      ],
      "metadata": {
        "colab": {
          "base_uri": "https://localhost:8080/"
        },
        "id": "amdN_FwGP8P9",
        "outputId": "d64af20c-c7a1-4c02-c3a3-a966cb14d0be"
      },
      "execution_count": null,
      "outputs": [
        {
          "output_type": "execute_result",
          "data": {
            "text/plain": [
              "((975, 25), (975,))"
            ]
          },
          "metadata": {},
          "execution_count": 27
        }
      ]
    },
    {
      "cell_type": "code",
      "source": [
        "X_test.shape, y_test.shape"
      ],
      "metadata": {
        "colab": {
          "base_uri": "https://localhost:8080/"
        },
        "id": "9iC5et3AQGkp",
        "outputId": "e2328f43-5628-4c9b-eee4-9f0e06d14b61"
      },
      "execution_count": null,
      "outputs": [
        {
          "output_type": "execute_result",
          "data": {
            "text/plain": [
              "((233, 25), (233,))"
            ]
          },
          "metadata": {},
          "execution_count": 28
        }
      ]
    },
    {
      "cell_type": "code",
      "source": [
        "X_train = X_train.reshape(975,25,1)\n",
        "X_test = X_test.reshape(233,25,1)"
      ],
      "metadata": {
        "id": "i5gXYDWzQMHN"
      },
      "execution_count": null,
      "outputs": []
    },
    {
      "cell_type": "code",
      "source": [
        "X_train.shape, y_train.shape, X_test.shape, y_test.shape"
      ],
      "metadata": {
        "colab": {
          "base_uri": "https://localhost:8080/"
        },
        "id": "4Oh-Kvn3RNZ3",
        "outputId": "80161930-2b69-4465-f5e1-498cbfb7bc2c"
      },
      "execution_count": null,
      "outputs": [
        {
          "output_type": "execute_result",
          "data": {
            "text/plain": [
              "((975, 25, 1), (975,), (233, 25, 1), (233,))"
            ]
          },
          "metadata": {},
          "execution_count": 33
        }
      ]
    },
    {
      "cell_type": "code",
      "source": [
        "model = keras.Sequential([\n",
        "    keras.layers.SimpleRNN(100, input_shape = (25,1), activation = \"relu\", return_sequences = False),\n",
        "    keras.layers.Dense(1, activation = \"linear\")\n",
        "])\n",
        "\n",
        "model.compile(optimizer = \"adam\", loss = \"mse\")\n"
      ],
      "metadata": {
        "id": "p7SWwGbnQXfe"
      },
      "execution_count": null,
      "outputs": []
    },
    {
      "cell_type": "code",
      "source": [
        "model.fit(X_train, y_train, epochs = 100, batch_size = 10)"
      ],
      "metadata": {
        "colab": {
          "base_uri": "https://localhost:8080/"
        },
        "id": "FP_F3EJrQ2Tu",
        "outputId": "96fbe36d-516a-4946-ae4c-1532e3a870b0"
      },
      "execution_count": null,
      "outputs": [
        {
          "output_type": "stream",
          "name": "stdout",
          "text": [
            "Epoch 1/100\n",
            "98/98 [==============================] - 2s 6ms/step - loss: 0.0286\n",
            "Epoch 2/100\n",
            "98/98 [==============================] - 1s 5ms/step - loss: 9.3691e-04\n",
            "Epoch 3/100\n",
            "98/98 [==============================] - 1s 6ms/step - loss: 8.7550e-04\n",
            "Epoch 4/100\n",
            "98/98 [==============================] - 1s 6ms/step - loss: 8.2392e-04\n",
            "Epoch 5/100\n",
            "98/98 [==============================] - 1s 6ms/step - loss: 8.8761e-04\n",
            "Epoch 6/100\n",
            "98/98 [==============================] - 1s 6ms/step - loss: 7.7073e-04\n",
            "Epoch 7/100\n",
            "98/98 [==============================] - 1s 9ms/step - loss: 8.1021e-04\n",
            "Epoch 8/100\n",
            "98/98 [==============================] - 1s 10ms/step - loss: 7.2517e-04\n",
            "Epoch 9/100\n",
            "98/98 [==============================] - 1s 10ms/step - loss: 7.6556e-04\n",
            "Epoch 10/100\n",
            "98/98 [==============================] - 1s 10ms/step - loss: 7.3315e-04\n",
            "Epoch 11/100\n",
            "98/98 [==============================] - 1s 10ms/step - loss: 7.1535e-04\n",
            "Epoch 12/100\n",
            "98/98 [==============================] - 1s 10ms/step - loss: 6.6585e-04\n",
            "Epoch 13/100\n",
            "98/98 [==============================] - 1s 9ms/step - loss: 6.7364e-04\n",
            "Epoch 14/100\n",
            "98/98 [==============================] - 1s 9ms/step - loss: 6.9959e-04\n",
            "Epoch 15/100\n",
            "98/98 [==============================] - 1s 6ms/step - loss: 6.9948e-04\n",
            "Epoch 16/100\n",
            "98/98 [==============================] - 1s 6ms/step - loss: 6.8746e-04\n",
            "Epoch 17/100\n",
            "98/98 [==============================] - 1s 5ms/step - loss: 6.6642e-04\n",
            "Epoch 18/100\n",
            "98/98 [==============================] - 1s 6ms/step - loss: 6.6368e-04\n",
            "Epoch 19/100\n",
            "98/98 [==============================] - 1s 5ms/step - loss: 6.5744e-04\n",
            "Epoch 20/100\n",
            "98/98 [==============================] - 1s 6ms/step - loss: 6.9725e-04\n",
            "Epoch 21/100\n",
            "98/98 [==============================] - 1s 5ms/step - loss: 6.3488e-04\n",
            "Epoch 22/100\n",
            "98/98 [==============================] - 1s 6ms/step - loss: 6.0654e-04\n",
            "Epoch 23/100\n",
            "98/98 [==============================] - 1s 6ms/step - loss: 7.0046e-04\n",
            "Epoch 24/100\n",
            "98/98 [==============================] - 1s 5ms/step - loss: 6.4000e-04\n",
            "Epoch 25/100\n",
            "98/98 [==============================] - 1s 6ms/step - loss: 6.4441e-04\n",
            "Epoch 26/100\n",
            "98/98 [==============================] - 1s 6ms/step - loss: 6.1768e-04\n",
            "Epoch 27/100\n",
            "98/98 [==============================] - 1s 6ms/step - loss: 5.8714e-04\n",
            "Epoch 28/100\n",
            "98/98 [==============================] - 1s 5ms/step - loss: 6.1843e-04\n",
            "Epoch 29/100\n",
            "98/98 [==============================] - 1s 6ms/step - loss: 5.9959e-04\n",
            "Epoch 30/100\n",
            "98/98 [==============================] - 1s 6ms/step - loss: 6.2517e-04\n",
            "Epoch 31/100\n",
            "98/98 [==============================] - 1s 6ms/step - loss: 5.8399e-04\n",
            "Epoch 32/100\n",
            "98/98 [==============================] - 1s 6ms/step - loss: 5.7263e-04\n",
            "Epoch 33/100\n",
            "98/98 [==============================] - 1s 9ms/step - loss: 6.3169e-04\n",
            "Epoch 34/100\n",
            "98/98 [==============================] - 1s 9ms/step - loss: 5.9581e-04\n",
            "Epoch 35/100\n",
            "98/98 [==============================] - 1s 9ms/step - loss: 5.6713e-04\n",
            "Epoch 36/100\n",
            "98/98 [==============================] - 1s 9ms/step - loss: 5.9486e-04\n",
            "Epoch 37/100\n",
            "98/98 [==============================] - 1s 8ms/step - loss: 5.8532e-04\n",
            "Epoch 38/100\n",
            "98/98 [==============================] - 1s 6ms/step - loss: 6.5890e-04\n",
            "Epoch 39/100\n",
            "98/98 [==============================] - 1s 6ms/step - loss: 5.9613e-04\n",
            "Epoch 40/100\n",
            "98/98 [==============================] - 1s 6ms/step - loss: 5.8883e-04\n",
            "Epoch 41/100\n",
            "98/98 [==============================] - 1s 6ms/step - loss: 5.9207e-04\n",
            "Epoch 42/100\n",
            "98/98 [==============================] - 1s 6ms/step - loss: 6.0690e-04\n",
            "Epoch 43/100\n",
            "98/98 [==============================] - 1s 6ms/step - loss: 5.8428e-04\n",
            "Epoch 44/100\n",
            "98/98 [==============================] - 1s 6ms/step - loss: 5.7019e-04\n",
            "Epoch 45/100\n",
            "98/98 [==============================] - 1s 6ms/step - loss: 6.1330e-04\n",
            "Epoch 46/100\n",
            "98/98 [==============================] - 1s 6ms/step - loss: 5.8607e-04\n",
            "Epoch 47/100\n",
            "98/98 [==============================] - 1s 6ms/step - loss: 6.2138e-04\n",
            "Epoch 48/100\n",
            "98/98 [==============================] - 1s 6ms/step - loss: 6.4439e-04\n",
            "Epoch 49/100\n",
            "98/98 [==============================] - 1s 6ms/step - loss: 6.0375e-04\n",
            "Epoch 50/100\n",
            "98/98 [==============================] - 1s 6ms/step - loss: 5.8779e-04\n",
            "Epoch 51/100\n",
            "98/98 [==============================] - 1s 6ms/step - loss: 6.4207e-04\n",
            "Epoch 52/100\n",
            "98/98 [==============================] - 1s 6ms/step - loss: 6.1184e-04\n",
            "Epoch 53/100\n",
            "98/98 [==============================] - 1s 6ms/step - loss: 6.1810e-04\n",
            "Epoch 54/100\n",
            "98/98 [==============================] - 1s 7ms/step - loss: 5.9033e-04\n",
            "Epoch 55/100\n",
            "98/98 [==============================] - 1s 9ms/step - loss: 5.7231e-04\n",
            "Epoch 56/100\n",
            "98/98 [==============================] - 1s 9ms/step - loss: 6.0935e-04\n",
            "Epoch 57/100\n",
            "98/98 [==============================] - 1s 9ms/step - loss: 5.6526e-04\n",
            "Epoch 58/100\n",
            "98/98 [==============================] - 1s 9ms/step - loss: 6.2251e-04\n",
            "Epoch 59/100\n",
            "98/98 [==============================] - 1s 8ms/step - loss: 6.1078e-04\n",
            "Epoch 60/100\n",
            "98/98 [==============================] - 1s 6ms/step - loss: 5.9505e-04\n",
            "Epoch 61/100\n",
            "98/98 [==============================] - 1s 5ms/step - loss: 5.5675e-04\n",
            "Epoch 62/100\n",
            "98/98 [==============================] - 1s 6ms/step - loss: 5.8131e-04\n",
            "Epoch 63/100\n",
            "98/98 [==============================] - 1s 6ms/step - loss: 5.7520e-04\n",
            "Epoch 64/100\n",
            "98/98 [==============================] - 1s 6ms/step - loss: 6.1016e-04\n",
            "Epoch 65/100\n",
            "98/98 [==============================] - 1s 6ms/step - loss: 6.1824e-04\n",
            "Epoch 66/100\n",
            "98/98 [==============================] - 1s 6ms/step - loss: 5.8335e-04\n",
            "Epoch 67/100\n",
            "98/98 [==============================] - 1s 6ms/step - loss: 6.1820e-04\n",
            "Epoch 68/100\n",
            "98/98 [==============================] - 1s 6ms/step - loss: 5.7536e-04\n",
            "Epoch 69/100\n",
            "98/98 [==============================] - 1s 6ms/step - loss: 5.6829e-04\n",
            "Epoch 70/100\n",
            "98/98 [==============================] - 1s 6ms/step - loss: 5.4733e-04\n",
            "Epoch 71/100\n",
            "98/98 [==============================] - 1s 6ms/step - loss: 6.6341e-04\n",
            "Epoch 72/100\n",
            "98/98 [==============================] - 1s 5ms/step - loss: 5.9949e-04\n",
            "Epoch 73/100\n",
            "98/98 [==============================] - 1s 6ms/step - loss: 5.7890e-04\n",
            "Epoch 74/100\n",
            "98/98 [==============================] - 1s 5ms/step - loss: 5.9538e-04\n",
            "Epoch 75/100\n",
            "98/98 [==============================] - 1s 6ms/step - loss: 5.7305e-04\n",
            "Epoch 76/100\n",
            "98/98 [==============================] - 1s 5ms/step - loss: 5.7508e-04\n",
            "Epoch 77/100\n",
            "98/98 [==============================] - 1s 8ms/step - loss: 5.7157e-04\n",
            "Epoch 78/100\n",
            "98/98 [==============================] - 1s 9ms/step - loss: 5.8529e-04\n",
            "Epoch 79/100\n",
            "98/98 [==============================] - 1s 9ms/step - loss: 5.6042e-04\n",
            "Epoch 80/100\n",
            "98/98 [==============================] - 1s 9ms/step - loss: 5.7652e-04\n",
            "Epoch 81/100\n",
            "98/98 [==============================] - 1s 9ms/step - loss: 5.6316e-04\n",
            "Epoch 82/100\n",
            "98/98 [==============================] - 1s 6ms/step - loss: 6.4415e-04\n",
            "Epoch 83/100\n",
            "98/98 [==============================] - 1s 6ms/step - loss: 5.8512e-04\n",
            "Epoch 84/100\n",
            "98/98 [==============================] - 1s 6ms/step - loss: 6.3695e-04\n",
            "Epoch 85/100\n",
            "98/98 [==============================] - 1s 6ms/step - loss: 5.5056e-04\n",
            "Epoch 86/100\n",
            "98/98 [==============================] - 1s 6ms/step - loss: 5.9790e-04\n",
            "Epoch 87/100\n",
            "98/98 [==============================] - 1s 6ms/step - loss: 5.6806e-04\n",
            "Epoch 88/100\n",
            "98/98 [==============================] - 1s 6ms/step - loss: 6.2360e-04\n",
            "Epoch 89/100\n",
            "98/98 [==============================] - 1s 6ms/step - loss: 5.6706e-04\n",
            "Epoch 90/100\n",
            "98/98 [==============================] - 1s 6ms/step - loss: 6.1795e-04\n",
            "Epoch 91/100\n",
            "98/98 [==============================] - 1s 6ms/step - loss: 5.9147e-04\n",
            "Epoch 92/100\n",
            "98/98 [==============================] - 1s 6ms/step - loss: 6.0196e-04\n",
            "Epoch 93/100\n",
            "98/98 [==============================] - 1s 6ms/step - loss: 5.6067e-04\n",
            "Epoch 94/100\n",
            "98/98 [==============================] - 1s 6ms/step - loss: 5.6574e-04\n",
            "Epoch 95/100\n",
            "98/98 [==============================] - 1s 6ms/step - loss: 5.7877e-04\n",
            "Epoch 96/100\n",
            "98/98 [==============================] - 1s 6ms/step - loss: 6.2555e-04\n",
            "Epoch 97/100\n",
            "98/98 [==============================] - 1s 5ms/step - loss: 5.5962e-04\n",
            "Epoch 98/100\n",
            "98/98 [==============================] - 1s 6ms/step - loss: 5.7283e-04\n",
            "Epoch 99/100\n",
            "98/98 [==============================] - 1s 7ms/step - loss: 5.7905e-04\n",
            "Epoch 100/100\n",
            "98/98 [==============================] - 1s 9ms/step - loss: 6.0180e-04\n"
          ]
        },
        {
          "output_type": "execute_result",
          "data": {
            "text/plain": [
              "<keras.src.callbacks.History at 0x7ec85c32ec80>"
            ]
          },
          "metadata": {},
          "execution_count": 35
        }
      ]
    },
    {
      "cell_type": "code",
      "source": [
        "model.evaluate(X_test,y_test)"
      ],
      "metadata": {
        "colab": {
          "base_uri": "https://localhost:8080/"
        },
        "id": "Zk4Ky4oORYXJ",
        "outputId": "78478680-0451-42fb-ad1c-2b70065ede9d"
      },
      "execution_count": null,
      "outputs": [
        {
          "output_type": "stream",
          "name": "stdout",
          "text": [
            "8/8 [==============================] - 0s 4ms/step - loss: 7.5602e-04\n"
          ]
        },
        {
          "output_type": "execute_result",
          "data": {
            "text/plain": [
              "0.0007560232770629227"
            ]
          },
          "metadata": {},
          "execution_count": 38
        }
      ]
    },
    {
      "cell_type": "code",
      "source": [
        "model.predict(X_test)[:5,:]"
      ],
      "metadata": {
        "colab": {
          "base_uri": "https://localhost:8080/"
        },
        "id": "ZrraTu4WSK8j",
        "outputId": "f59fcd83-e18b-4351-87dd-7333f99a688a"
      },
      "execution_count": null,
      "outputs": [
        {
          "output_type": "stream",
          "name": "stdout",
          "text": [
            "8/8 [==============================] - 0s 3ms/step\n"
          ]
        },
        {
          "output_type": "execute_result",
          "data": {
            "text/plain": [
              "array([[0.5891106 ],\n",
              "       [0.6136205 ],\n",
              "       [0.58936465],\n",
              "       [0.62623805],\n",
              "       [0.6209462 ]], dtype=float32)"
            ]
          },
          "metadata": {},
          "execution_count": 40
        }
      ]
    },
    {
      "cell_type": "code",
      "source": [
        "y_test[:5]"
      ],
      "metadata": {
        "colab": {
          "base_uri": "https://localhost:8080/"
        },
        "id": "UtgGUXw9SV5q",
        "outputId": "fab722ad-4a73-4ac1-8c35-cc78e3bdfef4"
      },
      "execution_count": null,
      "outputs": [
        {
          "output_type": "execute_result",
          "data": {
            "text/plain": [
              "array([0.60590278, 0.58038194, 0.61944444, 0.6140625 , 0.57881944])"
            ]
          },
          "metadata": {},
          "execution_count": 42
        }
      ]
    },
    {
      "cell_type": "code",
      "source": [],
      "metadata": {
        "id": "syS3dvo3Sgok"
      },
      "execution_count": null,
      "outputs": []
    }
  ]
}