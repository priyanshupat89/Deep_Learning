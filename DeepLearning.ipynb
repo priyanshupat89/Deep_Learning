{
  "nbformat": 4,
  "nbformat_minor": 0,
  "metadata": {
    "colab": {
      "provenance": []
    },
    "kernelspec": {
      "name": "python3",
      "display_name": "Python 3"
    },
    "language_info": {
      "name": "python"
    }
  },
  "cells": [
    {
      "cell_type": "markdown",
      "source": [
        "**ANN** **09/01/2024**\n",
        "\n"
      ],
      "metadata": {
        "id": "oPbBIyhgAH8m"
      }
    },
    {
      "cell_type": "code",
      "source": [
        "import tensorflow as tf\n",
        "from tensorflow import keras\n",
        "import numpy as np\n",
        "import pandas as pd\n",
        "import matplotlib.pyplot as plt\n",
        "import seaborn as sns\n",
        "import math"
      ],
      "metadata": {
        "id": "OE1ph8ZWAJcv"
      },
      "execution_count": 136,
      "outputs": []
    },
    {
      "cell_type": "code",
      "source": [
        "tf.__version__"
      ],
      "metadata": {
        "colab": {
          "base_uri": "https://localhost:8080/",
          "height": 35
        },
        "id": "b_53sA1VCJr3",
        "outputId": "d0b23415-341f-4bd5-ac3e-c0427b9041de"
      },
      "execution_count": 137,
      "outputs": [
        {
          "output_type": "execute_result",
          "data": {
            "text/plain": [
              "'2.15.0'"
            ],
            "application/vnd.google.colaboratory.intrinsic+json": {
              "type": "string"
            }
          },
          "metadata": {},
          "execution_count": 137
        }
      ]
    },
    {
      "cell_type": "code",
      "source": [
        "data=keras.datasets.mnist.load_data()"
      ],
      "metadata": {
        "id": "zkbQmKd9CV3C"
      },
      "execution_count": 138,
      "outputs": []
    },
    {
      "cell_type": "code",
      "source": [
        "data"
      ],
      "metadata": {
        "colab": {
          "base_uri": "https://localhost:8080/"
        },
        "id": "BO5pjI7SDnxA",
        "outputId": "e8d19a8a-0bff-4140-8bb3-0bae1b75a1de"
      },
      "execution_count": 139,
      "outputs": [
        {
          "output_type": "execute_result",
          "data": {
            "text/plain": [
              "((array([[[0, 0, 0, ..., 0, 0, 0],\n",
              "          [0, 0, 0, ..., 0, 0, 0],\n",
              "          [0, 0, 0, ..., 0, 0, 0],\n",
              "          ...,\n",
              "          [0, 0, 0, ..., 0, 0, 0],\n",
              "          [0, 0, 0, ..., 0, 0, 0],\n",
              "          [0, 0, 0, ..., 0, 0, 0]],\n",
              "  \n",
              "         [[0, 0, 0, ..., 0, 0, 0],\n",
              "          [0, 0, 0, ..., 0, 0, 0],\n",
              "          [0, 0, 0, ..., 0, 0, 0],\n",
              "          ...,\n",
              "          [0, 0, 0, ..., 0, 0, 0],\n",
              "          [0, 0, 0, ..., 0, 0, 0],\n",
              "          [0, 0, 0, ..., 0, 0, 0]],\n",
              "  \n",
              "         [[0, 0, 0, ..., 0, 0, 0],\n",
              "          [0, 0, 0, ..., 0, 0, 0],\n",
              "          [0, 0, 0, ..., 0, 0, 0],\n",
              "          ...,\n",
              "          [0, 0, 0, ..., 0, 0, 0],\n",
              "          [0, 0, 0, ..., 0, 0, 0],\n",
              "          [0, 0, 0, ..., 0, 0, 0]],\n",
              "  \n",
              "         ...,\n",
              "  \n",
              "         [[0, 0, 0, ..., 0, 0, 0],\n",
              "          [0, 0, 0, ..., 0, 0, 0],\n",
              "          [0, 0, 0, ..., 0, 0, 0],\n",
              "          ...,\n",
              "          [0, 0, 0, ..., 0, 0, 0],\n",
              "          [0, 0, 0, ..., 0, 0, 0],\n",
              "          [0, 0, 0, ..., 0, 0, 0]],\n",
              "  \n",
              "         [[0, 0, 0, ..., 0, 0, 0],\n",
              "          [0, 0, 0, ..., 0, 0, 0],\n",
              "          [0, 0, 0, ..., 0, 0, 0],\n",
              "          ...,\n",
              "          [0, 0, 0, ..., 0, 0, 0],\n",
              "          [0, 0, 0, ..., 0, 0, 0],\n",
              "          [0, 0, 0, ..., 0, 0, 0]],\n",
              "  \n",
              "         [[0, 0, 0, ..., 0, 0, 0],\n",
              "          [0, 0, 0, ..., 0, 0, 0],\n",
              "          [0, 0, 0, ..., 0, 0, 0],\n",
              "          ...,\n",
              "          [0, 0, 0, ..., 0, 0, 0],\n",
              "          [0, 0, 0, ..., 0, 0, 0],\n",
              "          [0, 0, 0, ..., 0, 0, 0]]], dtype=uint8),\n",
              "  array([5, 0, 4, ..., 5, 6, 8], dtype=uint8)),\n",
              " (array([[[0, 0, 0, ..., 0, 0, 0],\n",
              "          [0, 0, 0, ..., 0, 0, 0],\n",
              "          [0, 0, 0, ..., 0, 0, 0],\n",
              "          ...,\n",
              "          [0, 0, 0, ..., 0, 0, 0],\n",
              "          [0, 0, 0, ..., 0, 0, 0],\n",
              "          [0, 0, 0, ..., 0, 0, 0]],\n",
              "  \n",
              "         [[0, 0, 0, ..., 0, 0, 0],\n",
              "          [0, 0, 0, ..., 0, 0, 0],\n",
              "          [0, 0, 0, ..., 0, 0, 0],\n",
              "          ...,\n",
              "          [0, 0, 0, ..., 0, 0, 0],\n",
              "          [0, 0, 0, ..., 0, 0, 0],\n",
              "          [0, 0, 0, ..., 0, 0, 0]],\n",
              "  \n",
              "         [[0, 0, 0, ..., 0, 0, 0],\n",
              "          [0, 0, 0, ..., 0, 0, 0],\n",
              "          [0, 0, 0, ..., 0, 0, 0],\n",
              "          ...,\n",
              "          [0, 0, 0, ..., 0, 0, 0],\n",
              "          [0, 0, 0, ..., 0, 0, 0],\n",
              "          [0, 0, 0, ..., 0, 0, 0]],\n",
              "  \n",
              "         ...,\n",
              "  \n",
              "         [[0, 0, 0, ..., 0, 0, 0],\n",
              "          [0, 0, 0, ..., 0, 0, 0],\n",
              "          [0, 0, 0, ..., 0, 0, 0],\n",
              "          ...,\n",
              "          [0, 0, 0, ..., 0, 0, 0],\n",
              "          [0, 0, 0, ..., 0, 0, 0],\n",
              "          [0, 0, 0, ..., 0, 0, 0]],\n",
              "  \n",
              "         [[0, 0, 0, ..., 0, 0, 0],\n",
              "          [0, 0, 0, ..., 0, 0, 0],\n",
              "          [0, 0, 0, ..., 0, 0, 0],\n",
              "          ...,\n",
              "          [0, 0, 0, ..., 0, 0, 0],\n",
              "          [0, 0, 0, ..., 0, 0, 0],\n",
              "          [0, 0, 0, ..., 0, 0, 0]],\n",
              "  \n",
              "         [[0, 0, 0, ..., 0, 0, 0],\n",
              "          [0, 0, 0, ..., 0, 0, 0],\n",
              "          [0, 0, 0, ..., 0, 0, 0],\n",
              "          ...,\n",
              "          [0, 0, 0, ..., 0, 0, 0],\n",
              "          [0, 0, 0, ..., 0, 0, 0],\n",
              "          [0, 0, 0, ..., 0, 0, 0]]], dtype=uint8),\n",
              "  array([7, 2, 1, ..., 4, 5, 6], dtype=uint8)))"
            ]
          },
          "metadata": {},
          "execution_count": 139
        }
      ]
    },
    {
      "cell_type": "code",
      "source": [
        "type(data[0][0])"
      ],
      "metadata": {
        "colab": {
          "base_uri": "https://localhost:8080/"
        },
        "id": "u3AvtyBCEDus",
        "outputId": "4c7b8250-dda9-4ca7-c460-5a0728a43ea3"
      },
      "execution_count": 140,
      "outputs": [
        {
          "output_type": "execute_result",
          "data": {
            "text/plain": [
              "numpy.ndarray"
            ]
          },
          "metadata": {},
          "execution_count": 140
        }
      ]
    },
    {
      "cell_type": "code",
      "source": [
        "(X_train,y_train),(X_test,y_test)=keras.datasets.mnist.load_data()"
      ],
      "metadata": {
        "id": "Cy_6UyzHEH3Z"
      },
      "execution_count": 141,
      "outputs": []
    },
    {
      "cell_type": "code",
      "source": [
        "print(type(X_train))\n",
        "print(X_train.shape)\n",
        "print(X_train.ndim)"
      ],
      "metadata": {
        "colab": {
          "base_uri": "https://localhost:8080/"
        },
        "id": "v0jkASoPEH7E",
        "outputId": "e500b921-e123-4200-d4ce-3d1b7b13da3e"
      },
      "execution_count": 142,
      "outputs": [
        {
          "output_type": "stream",
          "name": "stdout",
          "text": [
            "<class 'numpy.ndarray'>\n",
            "(60000, 28, 28)\n",
            "3\n"
          ]
        }
      ]
    },
    {
      "cell_type": "code",
      "source": [
        "print(type(X_test))\n",
        "print(X_test.shape)\n",
        "print(X_test.ndim)"
      ],
      "metadata": {
        "colab": {
          "base_uri": "https://localhost:8080/"
        },
        "id": "vg0DWrPaFXqd",
        "outputId": "2b316d07-7b54-4e72-a2e0-9db427532961"
      },
      "execution_count": 143,
      "outputs": [
        {
          "output_type": "stream",
          "name": "stdout",
          "text": [
            "<class 'numpy.ndarray'>\n",
            "(10000, 28, 28)\n",
            "3\n"
          ]
        }
      ]
    },
    {
      "cell_type": "code",
      "source": [
        "print(type(y_train))\n",
        "print(y_train.shape)\n",
        "print(y_train.ndim)"
      ],
      "metadata": {
        "colab": {
          "base_uri": "https://localhost:8080/"
        },
        "id": "RYcFSUXiHAfK",
        "outputId": "c3ac652c-fd0e-4209-96a0-944765887205"
      },
      "execution_count": 144,
      "outputs": [
        {
          "output_type": "stream",
          "name": "stdout",
          "text": [
            "<class 'numpy.ndarray'>\n",
            "(60000,)\n",
            "1\n"
          ]
        }
      ]
    },
    {
      "cell_type": "code",
      "source": [
        "print(type(y_test))\n",
        "print(y_test.shape)\n",
        "print(y_test.ndim)"
      ],
      "metadata": {
        "colab": {
          "base_uri": "https://localhost:8080/"
        },
        "id": "Eqi9LQt2HAhi",
        "outputId": "d03ff409-db7e-45bc-f33c-44b08f4a3a38"
      },
      "execution_count": 145,
      "outputs": [
        {
          "output_type": "stream",
          "name": "stdout",
          "text": [
            "<class 'numpy.ndarray'>\n",
            "(10000,)\n",
            "1\n"
          ]
        }
      ]
    },
    {
      "cell_type": "code",
      "source": [
        "X_train[6].shape"
      ],
      "metadata": {
        "colab": {
          "base_uri": "https://localhost:8080/"
        },
        "id": "01bXj-SeHsIv",
        "outputId": "e6bf2281-afeb-4354-9461-2a7abc59b248"
      },
      "execution_count": 146,
      "outputs": [
        {
          "output_type": "execute_result",
          "data": {
            "text/plain": [
              "(28, 28)"
            ]
          },
          "metadata": {},
          "execution_count": 146
        }
      ]
    },
    {
      "cell_type": "code",
      "source": [
        "plt.matshow(X_train[6])"
      ],
      "metadata": {
        "id": "ro2cbJo4HsLR",
        "colab": {
          "base_uri": "https://localhost:8080/",
          "height": 454
        },
        "outputId": "acef7c4c-b279-4a2d-e84d-934b7a3c14f1"
      },
      "execution_count": 147,
      "outputs": [
        {
          "output_type": "execute_result",
          "data": {
            "text/plain": [
              "<matplotlib.image.AxesImage at 0x7c0e66156e60>"
            ]
          },
          "metadata": {},
          "execution_count": 147
        },
        {
          "output_type": "display_data",
          "data": {
            "text/plain": [
              "<Figure size 480x480 with 1 Axes>"
            ],
            "image/png": "[encoded data removed]"
          },
          "metadata": {}
        }
      ]
    },
    {
      "cell_type": "code",
      "source": [
        "X_train_flat=X_train.reshape(len(X_train),28*28)"
      ],
      "metadata": {
        "id": "synsqAwDNpxn"
      },
      "execution_count": 148,
      "outputs": []
    },
    {
      "cell_type": "code",
      "source": [
        "model=keras.Sequential([\n",
        "    keras.layers.Dense(10,input_shape=(28*28,),activation=\"sigmoid\")])\n",
        "model.compile(optimizer=\"adam\",\n",
        "              loss=\"sparse_categorical_crossentropy\",\n",
        "              metrics=[\"accuracy\"])\n",
        "\n",
        "model.fit(X_train_flat,y_train,epochs=5)"
      ],
      "metadata": {
        "colab": {
          "base_uri": "https://localhost:8080/"
        },
        "id": "MJb_ox4LHsOG",
        "outputId": "3e4f4393-bf6a-4889-96bd-b1e3bbd5da29"
      },
      "execution_count": 149,
      "outputs": [
        {
          "output_type": "stream",
          "name": "stdout",
          "text": [
            "Epoch 1/5\n",
            "1875/1875 [==============================] - 3s 1ms/step - loss: 9.6545 - accuracy: 0.8393\n",
            "Epoch 2/5\n",
            "1875/1875 [==============================] - 2s 1ms/step - loss: 6.1379 - accuracy: 0.8785\n",
            "Epoch 3/5\n",
            "1875/1875 [==============================] - 2s 1ms/step - loss: 5.8173 - accuracy: 0.8824\n",
            "Epoch 4/5\n",
            "1875/1875 [==============================] - 2s 1ms/step - loss: 5.5720 - accuracy: 0.8859\n",
            "Epoch 5/5\n",
            "1875/1875 [==============================] - 3s 2ms/step - loss: 5.3946 - accuracy: 0.8878\n"
          ]
        },
        {
          "output_type": "execute_result",
          "data": {
            "text/plain": [
              "<keras.src.callbacks.History at 0x7c0e4ac3a170>"
            ]
          },
          "metadata": {},
          "execution_count": 149
        }
      ]
    },
    {
      "cell_type": "code",
      "source": [
        "model=keras.Sequential([\n",
        "    keras.layers.Dense(100,input_shape=(28*28,),activation=\"relu\"),\n",
        "    keras.layers.Dense(10,activation=\"sigmoid\")])\n",
        "model.compile(optimizer=\"adam\",\n",
        "              loss=\"sparse_categorical_crossentropy\",\n",
        "              metrics=[\"accuracy\"])\n",
        "\n",
        "model.fit(X_train_flat,y_train,epochs=5)"
      ],
      "metadata": {
        "colab": {
          "base_uri": "https://localhost:8080/"
        },
        "id": "_q6ul_oWHAlC",
        "outputId": "498c60b9-844b-414e-bd78-6847b2e4927e"
      },
      "execution_count": 150,
      "outputs": [
        {
          "output_type": "stream",
          "name": "stdout",
          "text": [
            "Epoch 1/5\n",
            "1875/1875 [==============================] - 6s 3ms/step - loss: 2.5428 - accuracy: 0.8349\n",
            "Epoch 2/5\n",
            "1875/1875 [==============================] - 5s 3ms/step - loss: 0.4271 - accuracy: 0.8996\n",
            "Epoch 3/5\n",
            "1875/1875 [==============================] - 6s 3ms/step - loss: 0.3111 - accuracy: 0.9228\n",
            "Epoch 4/5\n",
            "1875/1875 [==============================] - 5s 2ms/step - loss: 0.2613 - accuracy: 0.9333\n",
            "Epoch 5/5\n",
            "1875/1875 [==============================] - 5s 3ms/step - loss: 0.2311 - accuracy: 0.9415\n"
          ]
        },
        {
          "output_type": "execute_result",
          "data": {
            "text/plain": [
              "<keras.src.callbacks.History at 0x7c0e4acb70a0>"
            ]
          },
          "metadata": {},
          "execution_count": 150
        }
      ]
    },
    {
      "cell_type": "code",
      "source": [
        "model=keras.Sequential([\n",
        "\n",
        "    keras.layers.Dense(100,input_shape=(28*28,),activation=\"relu\"),\n",
        "    keras.layers.Dense(100,input_shape=(28*28,),activation=\"softmax\"),\n",
        "    keras.layers.Dense(10,activation=\"sigmoid\")])\n",
        "model.compile(optimizer=\"adam\",\n",
        "              loss=\"sparse_categorical_crossentropy\",\n",
        "              metrics=[\"accuracy\"])\n",
        "\n",
        "model.fit(X_train_flat,y_train,epochs=5)"
      ],
      "metadata": {
        "id": "joJ7-Fx8VOQM",
        "colab": {
          "base_uri": "https://localhost:8080/"
        },
        "outputId": "e5dd1880-c428-46d4-a765-5153c610e26a"
      },
      "execution_count": 151,
      "outputs": [
        {
          "output_type": "stream",
          "name": "stdout",
          "text": [
            "Epoch 1/5\n",
            "1875/1875 [==============================] - 5s 2ms/step - loss: 1.9777 - accuracy: 0.2967\n",
            "Epoch 2/5\n",
            "1875/1875 [==============================] - 4s 2ms/step - loss: 1.7254 - accuracy: 0.3442\n",
            "Epoch 3/5\n",
            "1875/1875 [==============================] - 3s 2ms/step - loss: 1.5273 - accuracy: 0.4032\n",
            "Epoch 4/5\n",
            "1875/1875 [==============================] - 3s 2ms/step - loss: 1.4598 - accuracy: 0.4306\n",
            "Epoch 5/5\n",
            "1875/1875 [==============================] - 4s 2ms/step - loss: 1.4377 - accuracy: 0.4202\n"
          ]
        },
        {
          "output_type": "execute_result",
          "data": {
            "text/plain": [
              "<keras.src.callbacks.History at 0x7c0e4acb7b80>"
            ]
          },
          "metadata": {},
          "execution_count": 151
        }
      ]
    },
    {
      "cell_type": "markdown",
      "source": [
        "**10/01/2024**"
      ],
      "metadata": {
        "id": "5WD7fqHsXT9h"
      }
    },
    {
      "cell_type": "code",
      "source": [
        "model2=keras.Sequential([\n",
        "    keras.layers.Flatten(),\n",
        "    keras.layers.Dense(100,input_shape=(28*28,),activation=\"relu\"),\n",
        "    keras.layers.Dense(100,input_shape=(28*28,),activation=\"sigmoid\"),\n",
        "    keras.layers.Dense(10,activation=\"sigmoid\")])\n",
        "model2.compile(optimizer=\"adam\",\n",
        "              loss=\"sparse_categorical_crossentropy\",\n",
        "              metrics=[\"accuracy\"])\n",
        "\n",
        "model2.fit(X_train_flat,y_train,epochs=5)"
      ],
      "metadata": {
        "colab": {
          "base_uri": "https://localhost:8080/"
        },
        "id": "2CIj17fwfC_q",
        "outputId": "24303136-94bd-4e4a-f971-afe992a59d86"
      },
      "execution_count": 152,
      "outputs": [
        {
          "output_type": "stream",
          "name": "stdout",
          "text": [
            "Epoch 1/5\n",
            "1875/1875 [==============================] - 4s 2ms/step - loss: 0.4932 - accuracy: 0.8629\n",
            "Epoch 2/5\n",
            "1875/1875 [==============================] - 3s 2ms/step - loss: 0.2622 - accuracy: 0.9233\n",
            "Epoch 3/5\n",
            "1875/1875 [==============================] - 4s 2ms/step - loss: 0.2352 - accuracy: 0.9300\n",
            "Epoch 4/5\n",
            "1875/1875 [==============================] - 3s 2ms/step - loss: 0.2215 - accuracy: 0.9345\n",
            "Epoch 5/5\n",
            "1875/1875 [==============================] - 4s 2ms/step - loss: 0.2157 - accuracy: 0.9351\n"
          ]
        },
        {
          "output_type": "execute_result",
          "data": {
            "text/plain": [
              "<keras.src.callbacks.History at 0x7c0e4b466170>"
            ]
          },
          "metadata": {},
          "execution_count": 152
        }
      ]
    },
    {
      "cell_type": "code",
      "source": [
        "model2.evaluate(X_test,y_test)"
      ],
      "metadata": {
        "colab": {
          "base_uri": "https://localhost:8080/"
        },
        "id": "dALgSSGwXaD-",
        "outputId": "d5115502-ecd6-425e-da2b-863a1ae676b6"
      },
      "execution_count": 153,
      "outputs": [
        {
          "output_type": "stream",
          "name": "stdout",
          "text": [
            "313/313 [==============================] - 1s 2ms/step - loss: 0.2154 - accuracy: 0.9347\n"
          ]
        },
        {
          "output_type": "execute_result",
          "data": {
            "text/plain": [
              "[0.21542523801326752, 0.9347000122070312]"
            ]
          },
          "metadata": {},
          "execution_count": 153
        }
      ]
    },
    {
      "cell_type": "code",
      "source": [
        "y_test_pre=model2.predict(X_test)"
      ],
      "metadata": {
        "colab": {
          "base_uri": "https://localhost:8080/"
        },
        "id": "mNVSydBsgn3X",
        "outputId": "166658b4-56ae-4a39-962b-fbcec2b3ea1c"
      },
      "execution_count": 154,
      "outputs": [
        {
          "output_type": "stream",
          "name": "stdout",
          "text": [
            "313/313 [==============================] - 0s 1ms/step\n"
          ]
        }
      ]
    },
    {
      "cell_type": "code",
      "source": [
        "y_test_pre.shape"
      ],
      "metadata": {
        "colab": {
          "base_uri": "https://localhost:8080/"
        },
        "id": "kx8MaqcEhQcj",
        "outputId": "977f5dff-7e37-4c4b-c427-052c31c37f81"
      },
      "execution_count": 155,
      "outputs": [
        {
          "output_type": "execute_result",
          "data": {
            "text/plain": [
              "(10000, 10)"
            ]
          },
          "metadata": {},
          "execution_count": 155
        }
      ]
    },
    {
      "cell_type": "code",
      "source": [
        "np.argmax(y_test_pre[7])"
      ],
      "metadata": {
        "colab": {
          "base_uri": "https://localhost:8080/"
        },
        "id": "gRzLa5dxhXRw",
        "outputId": "085e310f-73c8-40f0-8eff-dc633ea0cc08"
      },
      "execution_count": 156,
      "outputs": [
        {
          "output_type": "execute_result",
          "data": {
            "text/plain": [
              "9"
            ]
          },
          "metadata": {},
          "execution_count": 156
        }
      ]
    },
    {
      "cell_type": "code",
      "source": [
        "y_test[55]"
      ],
      "metadata": {
        "colab": {
          "base_uri": "https://localhost:8080/"
        },
        "id": "l7xqWNMuhlqG",
        "outputId": "924c6071-647a-4bc1-b41a-974fa24bdb54"
      },
      "execution_count": 157,
      "outputs": [
        {
          "output_type": "execute_result",
          "data": {
            "text/plain": [
              "0"
            ]
          },
          "metadata": {},
          "execution_count": 157
        }
      ]
    },
    {
      "cell_type": "code",
      "source": [
        "np.max(y_test_pre)"
      ],
      "metadata": {
        "colab": {
          "base_uri": "https://localhost:8080/"
        },
        "id": "IikvHXzBhltl",
        "outputId": "d60518a2-a488-4662-f290-14fd9bde133d"
      },
      "execution_count": 158,
      "outputs": [
        {
          "output_type": "execute_result",
          "data": {
            "text/plain": [
              "0.99998164"
            ]
          },
          "metadata": {},
          "execution_count": 158
        }
      ]
    },
    {
      "cell_type": "code",
      "source": [
        "\n",
        "y_test_label=[np.argmax(i) for i in y_test_pre]\n",
        "y_test_label=np.array(y_test_label)"
      ],
      "metadata": {
        "id": "rE-4ddtBl_It"
      },
      "execution_count": 159,
      "outputs": []
    },
    {
      "cell_type": "code",
      "source": [
        "y_test_label.shape"
      ],
      "metadata": {
        "colab": {
          "base_uri": "https://localhost:8080/"
        },
        "id": "_YbVRLWdl_MG",
        "outputId": "9a9d8d9c-d0e9-4d8f-de29-41a98df10f8e"
      },
      "execution_count": 160,
      "outputs": [
        {
          "output_type": "execute_result",
          "data": {
            "text/plain": [
              "(10000,)"
            ]
          },
          "metadata": {},
          "execution_count": 160
        }
      ]
    },
    {
      "cell_type": "code",
      "source": [
        "y_test[7],y_test_pre[7],np.argmax(y_test_pre[7]),y_test_label[7]"
      ],
      "metadata": {
        "colab": {
          "base_uri": "https://localhost:8080/"
        },
        "id": "uJw9-7akmtyn",
        "outputId": "1c32cbbe-75bf-4295-9491-7dc2b3ff1ab6"
      },
      "execution_count": 161,
      "outputs": [
        {
          "output_type": "execute_result",
          "data": {
            "text/plain": [
              "(9,\n",
              " array([1.1767032e-02, 2.9890099e-01, 5.3620666e-02, 1.8246481e-01,\n",
              "        6.7878193e-01, 2.8626544e-02, 4.8645498e-04, 7.1397328e-01,\n",
              "        7.3545113e-02, 9.8987597e-01], dtype=float32),\n",
              " 9,\n",
              " 9)"
            ]
          },
          "metadata": {},
          "execution_count": 161
        }
      ]
    },
    {
      "cell_type": "code",
      "source": [
        "cm=tf.math.confusion_matrix(y_test,y_test_label)\n",
        "type(cm)"
      ],
      "metadata": {
        "colab": {
          "base_uri": "https://localhost:8080/"
        },
        "id": "Zt1HO8sgoONW",
        "outputId": "16949ef6-c397-48fc-9bb3-49dd9381718d"
      },
      "execution_count": 162,
      "outputs": [
        {
          "output_type": "execute_result",
          "data": {
            "text/plain": [
              "tensorflow.python.framework.ops.EagerTensor"
            ]
          },
          "metadata": {},
          "execution_count": 162
        }
      ]
    },
    {
      "cell_type": "code",
      "source": [
        "sns.heatmap(cm,annot=True,fmt=\"d\")"
      ],
      "metadata": {
        "colab": {
          "base_uri": "https://localhost:8080/",
          "height": 447
        },
        "id": "TRblbuuCoyUk",
        "outputId": "8ec821bc-76fe-4503-fb7d-1fe289a2502a"
      },
      "execution_count": 163,
      "outputs": [
        {
          "output_type": "execute_result",
          "data": {
            "text/plain": [
              "<Axes: >"
            ]
          },
          "metadata": {},
          "execution_count": 163
        },
        {
          "output_type": "display_data",
          "data": {
            "text/plain": [
              "<Figure size 640x480 with 2 Axes>"
            ],
            "image/png": "[encoded data removed]"
          },
          "metadata": {}
        }
      ]
    },
    {
      "cell_type": "code",
      "source": [
        "def sigmoid(x):\n",
        "  return 1/(1+math.exp(-x))"
      ],
      "metadata": {
        "id": "phpNDcd1sj9B"
      },
      "execution_count": 164,
      "outputs": []
    },
    {
      "cell_type": "code",
      "source": [
        "sigmoid(1)"
      ],
      "metadata": {
        "colab": {
          "base_uri": "https://localhost:8080/"
        },
        "id": "RaD0a1EJ4rHQ",
        "outputId": "7b16b437-29e3-40c1-8b58-34286ba80fb4"
      },
      "execution_count": 165,
      "outputs": [
        {
          "output_type": "execute_result",
          "data": {
            "text/plain": [
              "0.7310585786300049"
            ]
          },
          "metadata": {},
          "execution_count": 165
        }
      ]
    },
    {
      "cell_type": "code",
      "source": [
        "sigmoid(10)"
      ],
      "metadata": {
        "colab": {
          "base_uri": "https://localhost:8080/"
        },
        "id": "AFnHXKt34wUx",
        "outputId": "963752a9-20bb-4f4d-9933-ebef97c03cb6"
      },
      "execution_count": 166,
      "outputs": [
        {
          "output_type": "execute_result",
          "data": {
            "text/plain": [
              "0.9999546021312976"
            ]
          },
          "metadata": {},
          "execution_count": 166
        }
      ]
    },
    {
      "cell_type": "code",
      "source": [
        "sigmoid(1000)"
      ],
      "metadata": {
        "colab": {
          "base_uri": "https://localhost:8080/"
        },
        "id": "Ej1b6ddB4zee",
        "outputId": "7439287e-b1f1-4b26-d6a2-17e48218cf42"
      },
      "execution_count": 167,
      "outputs": [
        {
          "output_type": "execute_result",
          "data": {
            "text/plain": [
              "1.0"
            ]
          },
          "metadata": {},
          "execution_count": 167
        }
      ]
    },
    {
      "cell_type": "code",
      "source": [
        "sigmoid(-10)"
      ],
      "metadata": {
        "colab": {
          "base_uri": "https://localhost:8080/"
        },
        "id": "nVWsc-uX5ErF",
        "outputId": "662e471d-240e-4784-89ee-f611afe6ac25"
      },
      "execution_count": 168,
      "outputs": [
        {
          "output_type": "execute_result",
          "data": {
            "text/plain": [
              "4.5397868702434395e-05"
            ]
          },
          "metadata": {},
          "execution_count": 168
        }
      ]
    },
    {
      "cell_type": "code",
      "source": [
        "sigmoid(-100)"
      ],
      "metadata": {
        "colab": {
          "base_uri": "https://localhost:8080/"
        },
        "id": "43NIFAtI5GMe",
        "outputId": "39efcfaf-6cf7-48fa-ae89-3bcb5760d676"
      },
      "execution_count": 169,
      "outputs": [
        {
          "output_type": "execute_result",
          "data": {
            "text/plain": [
              "3.7200759760208356e-44"
            ]
          },
          "metadata": {},
          "execution_count": 169
        }
      ]
    },
    {
      "cell_type": "code",
      "source": [
        "def tangent(x):\n",
        "  return ((math.exp(x)-math.exp(-x))/(math.exp(x)+math.exp(-x)))"
      ],
      "metadata": {
        "id": "x9nHm7OK5JN5"
      },
      "execution_count": 170,
      "outputs": []
    },
    {
      "cell_type": "code",
      "source": [
        "tangent(10)"
      ],
      "metadata": {
        "colab": {
          "base_uri": "https://localhost:8080/"
        },
        "id": "QVAj1mTI54JD",
        "outputId": "f9232bc7-e8b1-430d-dbab-6d745c5f9aa9"
      },
      "execution_count": 171,
      "outputs": [
        {
          "output_type": "execute_result",
          "data": {
            "text/plain": [
              "0.9999999958776926"
            ]
          },
          "metadata": {},
          "execution_count": 171
        }
      ]
    },
    {
      "cell_type": "code",
      "source": [
        "tangent(1)"
      ],
      "metadata": {
        "colab": {
          "base_uri": "https://localhost:8080/"
        },
        "id": "lQ8bQfbr57hH",
        "outputId": "8bb8a90b-02b5-4440-f005-dc67295d9188"
      },
      "execution_count": 172,
      "outputs": [
        {
          "output_type": "execute_result",
          "data": {
            "text/plain": [
              "0.7615941559557649"
            ]
          },
          "metadata": {},
          "execution_count": 172
        }
      ]
    },
    {
      "cell_type": "code",
      "source": [
        "tangent(-10)"
      ],
      "metadata": {
        "colab": {
          "base_uri": "https://localhost:8080/"
        },
        "id": "Wpk7yRRC5_iV",
        "outputId": "b53ac849-2b76-46c1-add3-8c1d488562e2"
      },
      "execution_count": 173,
      "outputs": [
        {
          "output_type": "execute_result",
          "data": {
            "text/plain": [
              "-0.9999999958776926"
            ]
          },
          "metadata": {},
          "execution_count": 173
        }
      ]
    },
    {
      "cell_type": "code",
      "source": [
        "tangent(-180)"
      ],
      "metadata": {
        "colab": {
          "base_uri": "https://localhost:8080/"
        },
        "id": "QPygM0Pt6Ydl",
        "outputId": "97383cb2-6321-4163-ea2b-1d6d5d74d5ac"
      },
      "execution_count": 174,
      "outputs": [
        {
          "output_type": "execute_result",
          "data": {
            "text/plain": [
              "-1.0"
            ]
          },
          "metadata": {},
          "execution_count": 174
        }
      ]
    },
    {
      "cell_type": "code",
      "source": [
        "def Relu(x):\n",
        "  return (max(0,x))"
      ],
      "metadata": {
        "id": "gldDRbJY6bSO"
      },
      "execution_count": 175,
      "outputs": []
    },
    {
      "cell_type": "code",
      "source": [
        "Relu(1)"
      ],
      "metadata": {
        "colab": {
          "base_uri": "https://localhost:8080/"
        },
        "id": "ZaIgZCL86nz2",
        "outputId": "a674045f-3dd5-4ce6-9c78-c64b2b5aa4de"
      },
      "execution_count": 176,
      "outputs": [
        {
          "output_type": "execute_result",
          "data": {
            "text/plain": [
              "1"
            ]
          },
          "metadata": {},
          "execution_count": 176
        }
      ]
    },
    {
      "cell_type": "code",
      "source": [
        "Relu(10)"
      ],
      "metadata": {
        "colab": {
          "base_uri": "https://localhost:8080/"
        },
        "id": "XVJbGmza6q65",
        "outputId": "3da9db92-898d-419f-c950-c6674a817ac6"
      },
      "execution_count": 177,
      "outputs": [
        {
          "output_type": "execute_result",
          "data": {
            "text/plain": [
              "10"
            ]
          },
          "metadata": {},
          "execution_count": 177
        }
      ]
    },
    {
      "cell_type": "code",
      "source": [
        "Relu(100)"
      ],
      "metadata": {
        "colab": {
          "base_uri": "https://localhost:8080/"
        },
        "id": "yR00I6rR6s6a",
        "outputId": "93fa5d49-0695-4192-ff29-4fb25498bc4e"
      },
      "execution_count": 178,
      "outputs": [
        {
          "output_type": "execute_result",
          "data": {
            "text/plain": [
              "100"
            ]
          },
          "metadata": {},
          "execution_count": 178
        }
      ]
    },
    {
      "cell_type": "code",
      "source": [
        "Relu(-31)"
      ],
      "metadata": {
        "colab": {
          "base_uri": "https://localhost:8080/"
        },
        "id": "FWtmQdMA6wOu",
        "outputId": "d24a2a43-6c77-497f-ee88-4ad535637292"
      },
      "execution_count": 179,
      "outputs": [
        {
          "output_type": "execute_result",
          "data": {
            "text/plain": [
              "0"
            ]
          },
          "metadata": {},
          "execution_count": 179
        }
      ]
    },
    {
      "cell_type": "code",
      "source": [
        "#leakey relu\n",
        "def relu(x):\n",
        "  return (max(0.1*x,x))"
      ],
      "metadata": {
        "id": "15x8gHse6zNi"
      },
      "execution_count": 180,
      "outputs": []
    },
    {
      "cell_type": "code",
      "source": [
        "relu(1)"
      ],
      "metadata": {
        "colab": {
          "base_uri": "https://localhost:8080/"
        },
        "id": "Q31kS1S08TSb",
        "outputId": "cd55b6c2-eac3-4cc4-bd97-3f9959390ec5"
      },
      "execution_count": 181,
      "outputs": [
        {
          "output_type": "execute_result",
          "data": {
            "text/plain": [
              "1"
            ]
          },
          "metadata": {},
          "execution_count": 181
        }
      ]
    },
    {
      "cell_type": "code",
      "source": [
        "relu(10)"
      ],
      "metadata": {
        "colab": {
          "base_uri": "https://localhost:8080/"
        },
        "id": "0OSFST7a8U1T",
        "outputId": "a5fb0170-55d7-4d05-8f44-afeede0588f7"
      },
      "execution_count": 182,
      "outputs": [
        {
          "output_type": "execute_result",
          "data": {
            "text/plain": [
              "10"
            ]
          },
          "metadata": {},
          "execution_count": 182
        }
      ]
    },
    {
      "cell_type": "code",
      "source": [
        "relu(-10)"
      ],
      "metadata": {
        "colab": {
          "base_uri": "https://localhost:8080/"
        },
        "id": "rULYPfuS8Wfe",
        "outputId": "3cf9ee30-e43e-4f5b-dae2-13ae75f0acba"
      },
      "execution_count": 183,
      "outputs": [
        {
          "output_type": "execute_result",
          "data": {
            "text/plain": [
              "-1.0"
            ]
          },
          "metadata": {},
          "execution_count": 183
        }
      ]
    },
    {
      "cell_type": "markdown",
      "source": [
        "**DAY-3 11/01/24**"
      ],
      "metadata": {
        "id": "7BV9SR2_b8T2"
      }
    },
    {
      "cell_type": "markdown",
      "source": [
        "**SoftMax**"
      ],
      "metadata": {
        "id": "UNp-5yWRpz8r"
      }
    },
    {
      "cell_type": "code",
      "source": [
        "model_s=keras.Sequential([\n",
        "    keras.layers.Flatten(),\n",
        "    keras.layers.Dense(10,input_shape=(28*28,),activation=\"softmax\")])\n",
        "model_s.compile(optimizer=\"adam\",\n",
        "              loss=\"sparse_categorical_crossentropy\",\n",
        "              metrics=[\"accuracy\"])\n",
        "\n",
        "model_s.fit(X_train_flat,y_train,epochs=5)"
      ],
      "metadata": {
        "colab": {
          "base_uri": "https://localhost:8080/"
        },
        "id": "hc7e5keBcO6i",
        "outputId": "5ec5d8de-d84e-4223-c002-95c618a1104d"
      },
      "execution_count": 184,
      "outputs": [
        {
          "output_type": "stream",
          "name": "stdout",
          "text": [
            "Epoch 1/5\n",
            "1875/1875 [==============================] - 3s 1ms/step - loss: 9.3183 - accuracy: 0.8434\n",
            "Epoch 2/5\n",
            "1875/1875 [==============================] - 2s 1ms/step - loss: 6.1610 - accuracy: 0.8794\n",
            "Epoch 3/5\n",
            "1875/1875 [==============================] - 2s 1ms/step - loss: 5.7499 - accuracy: 0.8815\n",
            "Epoch 4/5\n",
            "1875/1875 [==============================] - 2s 1ms/step - loss: 5.5038 - accuracy: 0.8870\n",
            "Epoch 5/5\n",
            "1875/1875 [==============================] - 2s 1ms/step - loss: 5.5364 - accuracy: 0.8862\n"
          ]
        },
        {
          "output_type": "execute_result",
          "data": {
            "text/plain": [
              "<keras.src.callbacks.History at 0x7c0e4b1824a0>"
            ]
          },
          "metadata": {},
          "execution_count": 184
        }
      ]
    },
    {
      "cell_type": "code",
      "source": [],
      "metadata": {
        "id": "Y9uDGm2Rsk4L"
      },
      "execution_count": 184,
      "outputs": []
    },
    {
      "cell_type": "code",
      "source": [
        "y_test_pre_s=model_s.predict(X_test)"
      ],
      "metadata": {
        "colab": {
          "base_uri": "https://localhost:8080/"
        },
        "id": "VK5Gjfs8rXYU",
        "outputId": "6079a8b0-62ad-4a0c-d2f9-9edcf404516e"
      },
      "execution_count": 185,
      "outputs": [
        {
          "output_type": "stream",
          "name": "stdout",
          "text": [
            "313/313 [==============================] - 0s 872us/step\n"
          ]
        }
      ]
    },
    {
      "cell_type": "markdown",
      "source": [
        "**MAE**"
      ],
      "metadata": {
        "id": "1Z9qtgL5zxBt"
      }
    },
    {
      "cell_type": "code",
      "source": [
        "y=np.array([1,0,1,0,0])\n",
        "yhat=np.array([0.8,0.2,0.9,0.1,0.2])"
      ],
      "metadata": {
        "id": "kR6kVu90zwIq"
      },
      "execution_count": 186,
      "outputs": []
    },
    {
      "cell_type": "code",
      "source": [
        "def mae(yt,yp):\n",
        "  total_error=0\n",
        "  for i,j in zip(yt,yp):\n",
        "    total_error=total_error+abs(i-j)\n",
        "\n",
        "\n",
        "  mae=total_error/len(yt)\n",
        "  print(\"Total Error\",total_error)\n",
        "  print(\"MAE:\",mae)"
      ],
      "metadata": {
        "id": "yHKmjqIcreDJ"
      },
      "execution_count": 187,
      "outputs": []
    },
    {
      "cell_type": "code",
      "source": [
        "mae(y,yhat)"
      ],
      "metadata": {
        "colab": {
          "base_uri": "https://localhost:8080/"
        },
        "id": "syr15c7M1Mk8",
        "outputId": "d2ff68c2-27ef-4052-a43c-90bb0faa3866"
      },
      "execution_count": 188,
      "outputs": [
        {
          "output_type": "stream",
          "name": "stdout",
          "text": [
            "Total Error 0.8\n",
            "MAE: 0.16\n"
          ]
        }
      ]
    },
    {
      "cell_type": "code",
      "source": [
        "np.mean(np.abs(y-yhat))"
      ],
      "metadata": {
        "colab": {
          "base_uri": "https://localhost:8080/"
        },
        "id": "rQZHs68H24eT",
        "outputId": "3023aef4-5f1f-4796-c9ff-433c46992962"
      },
      "execution_count": 189,
      "outputs": [
        {
          "output_type": "execute_result",
          "data": {
            "text/plain": [
              "0.16"
            ]
          },
          "metadata": {},
          "execution_count": 189
        }
      ]
    },
    {
      "cell_type": "markdown",
      "source": [
        "**MSE**"
      ],
      "metadata": {
        "id": "h29FDKVt4D14"
      }
    },
    {
      "cell_type": "code",
      "source": [
        "def mse(yt,yp):\n",
        "  total_error=0\n",
        "  for i,j in zip(yt,yp):\n",
        "    total_error=total_error+(i-j)**2\n",
        "\n",
        "\n",
        "  mse=total_error/len(yt)\n",
        "  print(\"Total Error\",total_error)\n",
        "  print(\"MSE:\",mse)"
      ],
      "metadata": {
        "id": "CicJk55R3oNI"
      },
      "execution_count": 190,
      "outputs": []
    },
    {
      "cell_type": "code",
      "source": [
        "mse(y,yhat)"
      ],
      "metadata": {
        "colab": {
          "base_uri": "https://localhost:8080/"
        },
        "id": "syUwjHEb4mSS",
        "outputId": "e44e8009-b358-495a-851a-79527ec890e0"
      },
      "execution_count": 191,
      "outputs": [
        {
          "output_type": "stream",
          "name": "stdout",
          "text": [
            "Total Error 0.13999999999999999\n",
            "MSE: 0.027999999999999997\n"
          ]
        }
      ]
    },
    {
      "cell_type": "code",
      "source": [
        "np.mean((y-yhat)**2)"
      ],
      "metadata": {
        "colab": {
          "base_uri": "https://localhost:8080/"
        },
        "id": "7_zRLTTB4w63",
        "outputId": "5da7bfff-c9bf-4628-9562-7bcdaf3ae357"
      },
      "execution_count": 192,
      "outputs": [
        {
          "output_type": "execute_result",
          "data": {
            "text/plain": [
              "0.027999999999999997"
            ]
          },
          "metadata": {},
          "execution_count": 192
        }
      ]
    },
    {
      "cell_type": "markdown",
      "source": [
        "**Log Loss**  & **Binray cross entrop**"
      ],
      "metadata": {
        "id": "mL-86IvA80DW"
      }
    },
    {
      "cell_type": "code",
      "source": [
        "def log_loss(yt,yp):\n",
        "  e=1e-10\n",
        "  print(\"**\",y)\n",
        "  yp_new=[max(i,e) for i in yp]\n",
        "  print(\"**\",yp_new)\n",
        "  yp_new=[min(i,1-e) for i in yp_new]\n",
        "  print(\"**\",yp_new)\n",
        "  yp_new=np.array(yp_new)\n",
        "  return -np.mean(yt*np.log(yp_new)+(1-yt)*np.log(1-yp_new))"
      ],
      "metadata": {
        "id": "dYMiaJOm40Gs"
      },
      "execution_count": 193,
      "outputs": []
    },
    {
      "cell_type": "code",
      "source": [],
      "metadata": {
        "id": "03JgGXeENC6c"
      },
      "execution_count": 193,
      "outputs": []
    },
    {
      "cell_type": "code",
      "source": [
        "log_loss(y,yhat)"
      ],
      "metadata": {
        "colab": {
          "base_uri": "https://localhost:8080/"
        },
        "id": "gVxZ5aYQ9uFB",
        "outputId": "2386f9d5-2d00-4cca-e93e-fd29499e82d9"
      },
      "execution_count": 194,
      "outputs": [
        {
          "output_type": "stream",
          "name": "stdout",
          "text": [
            "** [1 0 1 0 0]\n",
            "** [0.8, 0.2, 0.9, 0.1, 0.2]\n",
            "** [0.8, 0.2, 0.9, 0.1, 0.2]\n"
          ]
        },
        {
          "output_type": "execute_result",
          "data": {
            "text/plain": [
              "0.17603033705165635"
            ]
          },
          "metadata": {},
          "execution_count": 194
        }
      ]
    },
    {
      "cell_type": "code",
      "source": [
        "y=np.array([1,0,1,0,0])\n",
        "yhat=np.array([1,0,0.9,0.1,0.2])"
      ],
      "metadata": {
        "id": "A2hKKDBM9ynJ"
      },
      "execution_count": 195,
      "outputs": []
    },
    {
      "cell_type": "code",
      "source": [
        "log_loss(y,yhat)"
      ],
      "metadata": {
        "colab": {
          "base_uri": "https://localhost:8080/"
        },
        "id": "jGGDfw5i-Tji",
        "outputId": "def869f9-11a7-404c-da4e-d569a69efd88"
      },
      "execution_count": 196,
      "outputs": [
        {
          "output_type": "stream",
          "name": "stdout",
          "text": [
            "** [1 0 1 0 0]\n",
            "** [1.0, 1e-10, 0.9, 0.1, 0.2]\n",
            "** [0.9999999999, 1e-10, 0.9, 0.1, 0.2]\n"
          ]
        },
        {
          "output_type": "execute_result",
          "data": {
            "text/plain": [
              "0.08677291656597245"
            ]
          },
          "metadata": {},
          "execution_count": 196
        }
      ]
    },
    {
      "cell_type": "markdown",
      "source": [
        "**Gradient descent**"
      ],
      "metadata": {
        "id": "nNLExu1t06EQ"
      }
    },
    {
      "cell_type": "code",
      "source": [
        "def gradient_descent(age, affordability, y_true, epochs, loss_thresold):\n",
        "    w1 = w2 = 1\n",
        "    bias = 0\n",
        "    rate = 0.5\n",
        "    n = len(age)\n",
        "    for i in range(epochs):\n",
        "        weighted_sum = w1 * age + w2 * affordability + bias\n",
        "        y_predicted = sigmoid_numpy(weighted_sum)\n",
        "        loss = log_loss(y_true, y_predicted)\n",
        "\n",
        "        w1d = (1/n)*np.dot((age),np.transpose(y_predicted-y_true))\n",
        "        w2d = (1/n)*np.dot((affordability),(y_predicted-y_true))\n",
        "        #print(\"weighted_sum\",weighted_sum, \"y_predicted\",y_predicted,\"loss\",loss,\"w1d\",w1d,\"w2d\",w2d)\n",
        "        bias_d = np.mean(y_predicted-y_true)\n",
        "\n",
        "        w1 = w1 - rate * w1d\n",
        "        w2 = w2 - rate * w2d\n",
        "        bias = bias - rate * bias_d\n",
        "\n",
        "        print (f'Epoch:{i}, w1:{w1}, w2:{w2}, bias:{bias}, loss:{loss}')\n",
        "\n",
        "        if loss<=loss_thresold:\n",
        "            break\n",
        "\n",
        "    return w1, w2, bias\n",
        "\n",
        "gradient_descent(X_train_scaled['age'],X_train_scaled['affordibility'],y_train,1000, 0.4631)"
      ],
      "metadata": {
        "id": "6ix3VY-w-iJr",
        "colab": {
          "base_uri": "https://localhost:8080/",
          "height": 211
        },
        "outputId": "87278621-fd21-4235-9f22-45d30c268f1f"
      },
      "execution_count": 197,
      "outputs": [
        {
          "output_type": "error",
          "ename": "IndexError",
          "evalue": "only integers, slices (`:`), ellipsis (`...`), numpy.newaxis (`None`) and integer or boolean arrays are valid indices",
          "traceback": [
            "\u001b[0;31m---------------------------------------------------------------------------\u001b[0m",
            "\u001b[0;31mIndexError\u001b[0m                                Traceback (most recent call last)",
            "\u001b[0;32m<ipython-input-197-111011dd2fd6>\u001b[0m in \u001b[0;36m<cell line: 27>\u001b[0;34m()\u001b[0m\n\u001b[1;32m     25\u001b[0m     \u001b[0;32mreturn\u001b[0m \u001b[0mw1\u001b[0m\u001b[0;34m,\u001b[0m \u001b[0mw2\u001b[0m\u001b[0;34m,\u001b[0m \u001b[0mbias\u001b[0m\u001b[0;34m\u001b[0m\u001b[0;34m\u001b[0m\u001b[0m\n\u001b[1;32m     26\u001b[0m \u001b[0;34m\u001b[0m\u001b[0m\n\u001b[0;32m---> 27\u001b[0;31m \u001b[0mgradient_descent\u001b[0m\u001b[0;34m(\u001b[0m\u001b[0mX_train_scaled\u001b[0m\u001b[0;34m[\u001b[0m\u001b[0;34m'age'\u001b[0m\u001b[0;34m]\u001b[0m\u001b[0;34m,\u001b[0m\u001b[0mX_train_scaled\u001b[0m\u001b[0;34m[\u001b[0m\u001b[0;34m'affordibility'\u001b[0m\u001b[0;34m]\u001b[0m\u001b[0;34m,\u001b[0m\u001b[0my_train\u001b[0m\u001b[0;34m,\u001b[0m\u001b[0;36m1000\u001b[0m\u001b[0;34m,\u001b[0m \u001b[0;36m0.4631\u001b[0m\u001b[0;34m)\u001b[0m\u001b[0;34m\u001b[0m\u001b[0;34m\u001b[0m\u001b[0m\n\u001b[0m",
            "\u001b[0;31mIndexError\u001b[0m: only integers, slices (`:`), ellipsis (`...`), numpy.newaxis (`None`) and integer or boolean arrays are valid indices"
          ]
        }
      ]
    },
    {
      "cell_type": "code",
      "source": [
        "def stochastic_gradient_descent(age, affordability, y_true, epochs, loss_threshold):\n",
        "    w1 = w2 = 1\n",
        "    bias = 0\n",
        "    rate = 0.5\n",
        "    n = len(age)\n",
        "\n",
        "    for epoch in range(epochs):\n",
        "        for i in range(n):\n",
        "            index = np.random.randint(0, n)\n",
        "            weighted_sum = w1 * age.iloc[index] + w2 * affordability.iloc[index] + bias\n",
        "            y_predicted = sigmoid_numpy(weighted_sum)\n",
        "\n",
        "            loss = log_loss(y_true.iloc[index], y_predicted)\n",
        "\n",
        "            w1d = age.iloc[index] * (y_predicted - y_true.iloc[index])\n",
        "            w2d = affordability.iloc[index] * (y_predicted - y_true.iloc[index])\n",
        "            bias_d = (y_predicted - y_true.iloc[index])\n",
        "\n",
        "            w1 = w1 - rate * w1d\n",
        "            w2 = w2 - rate * w2d\n",
        "            bias = bias - rate * bias_d\n",
        "\n",
        "        print(f'Epoch:{epoch}, w1:{w1}, w2:{w2}, bias:{bias}, loss:{average_loss}')\n",
        "\n",
        "        if average_loss <= loss_threshold:\n",
        "            break\n",
        "\n",
        "    return w1, w2, bias\n",
        "\n",
        "\n",
        "stochastic_gradient_descent(X_train_scaled['age'], X_train_scaled['affordibility'], y_train, 1000, 0.4631)"
      ],
      "metadata": {
        "id": "XCT8zHlx03vl"
      },
      "execution_count": null,
      "outputs": []
    },
    {
      "cell_type": "code",
      "source": [
        "def mini_batch_gradient_descent(age, affordability, y_true, epochs, loss_threshold, batch_size=32):\n",
        "    w1 = w2 = 1\n",
        "    bias = 0\n",
        "    rate = 0.5\n",
        "    n = len(age)\n",
        "\n",
        "    for i in range(epochs):\n",
        "        for j in range(0, n, batch_size):\n",
        "            age_batch = age[j:j+batch_size]\n",
        "            affordability_batch = affordability[j:j+batch_size]\n",
        "            y_true_batch = y_true[j:j+batch_size]\n",
        "\n",
        "            weighted_sum = w1 * age_batch + w2 * affordability_batch + bias\n",
        "            y_predicted = sigmoid_numpy(weighted_sum)\n",
        "            loss = log_loss(y_true_batch, y_predicted)\n",
        "\n",
        "            w1d = (1/batch_size) * np.dot(age_batch, np.transpose(y_predicted - y_true_batch))\n",
        "            w2d = (1/batch_size) * np.dot(affordability_batch, np.transpose(y_predicted - y_true_batch))\n",
        "            bias_d = np.mean(y_predicted - y_true_batch)\n",
        "\n",
        "            w1 = w1 - rate * w1d\n",
        "            w2 = w2 - rate * w2d\n",
        "            bias = bias - rate * bias_d\n",
        "\n",
        "        print(f'Epoch:{i}, w1:{w1}, w2:{w2}, bias:{bias}, loss:{loss}')\n",
        "\n",
        "        if loss <= loss_threshold:\n",
        "            break\n",
        "\n",
        "    return w1, w2, bias\n",
        "\n",
        "mini_batch_gradient_descent(X_train_scaled['age'], X_train_scaled['affordibility'], y_train, 1000, 0.4631, batch_size=10)"
      ],
      "metadata": {
        "id": "--te0EpAETc-"
      },
      "execution_count": null,
      "outputs": []
    },
    {
      "cell_type": "markdown",
      "source": [
        "**DAY-5  15/01/24**"
      ],
      "metadata": {
        "id": "yckATs9Zie40"
      }
    },
    {
      "cell_type": "code",
      "source": [
        "import tensorflow as tf\n",
        "from tensorflow import keras\n",
        "import numpy as np\n",
        "import pandas as pd\n",
        "import matplotlib.pyplot as plt\n",
        "import seaborn as sns\n",
        "import math"
      ],
      "metadata": {
        "id": "D4oAjOh_S14D"
      },
      "execution_count": 211,
      "outputs": []
    },
    {
      "cell_type": "code",
      "source": [
        "d=pd.read_csv(\"/content/drive/MyDrive/insurance_data.csv\")"
      ],
      "metadata": {
        "id": "ghBGL45QS16l"
      },
      "execution_count": 212,
      "outputs": []
    },
    {
      "cell_type": "code",
      "source": [
        "d"
      ],
      "metadata": {
        "colab": {
          "base_uri": "https://localhost:8080/",
          "height": 927
        },
        "id": "i_s6Lhv1S19G",
        "outputId": "2963790d-16b2-4fbe-83bc-acef1c38ac5a"
      },
      "execution_count": 213,
      "outputs": [
        {
          "output_type": "execute_result",
          "data": {
            "text/plain": [
              "    age  affordibility  bought_insurance\n",
              "0    22              1                 0\n",
              "1    25              0                 0\n",
              "2    47              1                 1\n",
              "3    52              0                 0\n",
              "4    46              1                 1\n",
              "5    56              1                 1\n",
              "6    55              0                 0\n",
              "7    60              0                 1\n",
              "8    62              1                 1\n",
              "9    61              1                 1\n",
              "10   18              1                 0\n",
              "11   28              1                 0\n",
              "12   27              0                 0\n",
              "13   29              0                 0\n",
              "14   49              1                 1\n",
              "15   55              1                 1\n",
              "16   25              0                 1\n",
              "17   58              1                 1\n",
              "18   19              0                 0\n",
              "19   18              1                 0\n",
              "20   21              1                 0\n",
              "21   26              0                 0\n",
              "22   40              1                 1\n",
              "23   45              1                 1\n",
              "24   50              1                 1\n",
              "25   54              1                 1\n",
              "26   23              1                 0\n",
              "27   46              1                 0"
            ],
            "text/html": [
              "\n",
              "  <div id=\"df-5c1e9e2b-d918-4301-85ee-a98f33f326f2\" class=\"colab-df-container\">\n",
              "    <div>\n",
              "<style scoped>\n",
              "    .dataframe tbody tr th:only-of-type {\n",
              "        vertical-align: middle;\n",
              "    }\n",
              "\n",
              "    .dataframe tbody tr th {\n",
              "        vertical-align: top;\n",
              "    }\n",
              "\n",
              "    .dataframe thead th {\n",
              "        text-align: right;\n",
              "    }\n",
              "</style>\n",
              "<table border=\"1\" class=\"dataframe\">\n",
              "  <thead>\n",
              "    <tr style=\"text-align: right;\">\n",
              "      <th></th>\n",
              "      <th>age</th>\n",
              "      <th>affordibility</th>\n",
              "      <th>bought_insurance</th>\n",
              "    </tr>\n",
              "  </thead>\n",
              "  <tbody>\n",
              "    <tr>\n",
              "      <th>0</th>\n",
              "      <td>22</td>\n",
              "      <td>1</td>\n",
              "      <td>0</td>\n",
              "    </tr>\n",
              "    <tr>\n",
              "      <th>1</th>\n",
              "      <td>25</td>\n",
              "      <td>0</td>\n",
              "      <td>0</td>\n",
              "    </tr>\n",
              "    <tr>\n",
              "      <th>2</th>\n",
              "      <td>47</td>\n",
              "      <td>1</td>\n",
              "      <td>1</td>\n",
              "    </tr>\n",
              "    <tr>\n",
              "      <th>3</th>\n",
              "      <td>52</td>\n",
              "      <td>0</td>\n",
              "      <td>0</td>\n",
              "    </tr>\n",
              "    <tr>\n",
              "      <th>4</th>\n",
              "      <td>46</td>\n",
              "      <td>1</td>\n",
              "      <td>1</td>\n",
              "    </tr>\n",
              "    <tr>\n",
              "      <th>5</th>\n",
              "      <td>56</td>\n",
              "      <td>1</td>\n",
              "      <td>1</td>\n",
              "    </tr>\n",
              "    <tr>\n",
              "      <th>6</th>\n",
              "      <td>55</td>\n",
              "      <td>0</td>\n",
              "      <td>0</td>\n",
              "    </tr>\n",
              "    <tr>\n",
              "      <th>7</th>\n",
              "      <td>60</td>\n",
              "      <td>0</td>\n",
              "      <td>1</td>\n",
              "    </tr>\n",
              "    <tr>\n",
              "      <th>8</th>\n",
              "      <td>62</td>\n",
              "      <td>1</td>\n",
              "      <td>1</td>\n",
              "    </tr>\n",
              "    <tr>\n",
              "      <th>9</th>\n",
              "      <td>61</td>\n",
              "      <td>1</td>\n",
              "      <td>1</td>\n",
              "    </tr>\n",
              "    <tr>\n",
              "      <th>10</th>\n",
              "      <td>18</td>\n",
              "      <td>1</td>\n",
              "      <td>0</td>\n",
              "    </tr>\n",
              "    <tr>\n",
              "      <th>11</th>\n",
              "      <td>28</td>\n",
              "      <td>1</td>\n",
              "      <td>0</td>\n",
              "    </tr>\n",
              "    <tr>\n",
              "      <th>12</th>\n",
              "      <td>27</td>\n",
              "      <td>0</td>\n",
              "      <td>0</td>\n",
              "    </tr>\n",
              "    <tr>\n",
              "      <th>13</th>\n",
              "      <td>29</td>\n",
              "      <td>0</td>\n",
              "      <td>0</td>\n",
              "    </tr>\n",
              "    <tr>\n",
              "      <th>14</th>\n",
              "      <td>49</td>\n",
              "      <td>1</td>\n",
              "      <td>1</td>\n",
              "    </tr>\n",
              "    <tr>\n",
              "      <th>15</th>\n",
              "      <td>55</td>\n",
              "      <td>1</td>\n",
              "      <td>1</td>\n",
              "    </tr>\n",
              "    <tr>\n",
              "      <th>16</th>\n",
              "      <td>25</td>\n",
              "      <td>0</td>\n",
              "      <td>1</td>\n",
              "    </tr>\n",
              "    <tr>\n",
              "      <th>17</th>\n",
              "      <td>58</td>\n",
              "      <td>1</td>\n",
              "      <td>1</td>\n",
              "    </tr>\n",
              "    <tr>\n",
              "      <th>18</th>\n",
              "      <td>19</td>\n",
              "      <td>0</td>\n",
              "      <td>0</td>\n",
              "    </tr>\n",
              "    <tr>\n",
              "      <th>19</th>\n",
              "      <td>18</td>\n",
              "      <td>1</td>\n",
              "      <td>0</td>\n",
              "    </tr>\n",
              "    <tr>\n",
              "      <th>20</th>\n",
              "      <td>21</td>\n",
              "      <td>1</td>\n",
              "      <td>0</td>\n",
              "    </tr>\n",
              "    <tr>\n",
              "      <th>21</th>\n",
              "      <td>26</td>\n",
              "      <td>0</td>\n",
              "      <td>0</td>\n",
              "    </tr>\n",
              "    <tr>\n",
              "      <th>22</th>\n",
              "      <td>40</td>\n",
              "      <td>1</td>\n",
              "      <td>1</td>\n",
              "    </tr>\n",
              "    <tr>\n",
              "      <th>23</th>\n",
              "      <td>45</td>\n",
              "      <td>1</td>\n",
              "      <td>1</td>\n",
              "    </tr>\n",
              "    <tr>\n",
              "      <th>24</th>\n",
              "      <td>50</td>\n",
              "      <td>1</td>\n",
              "      <td>1</td>\n",
              "    </tr>\n",
              "    <tr>\n",
              "      <th>25</th>\n",
              "      <td>54</td>\n",
              "      <td>1</td>\n",
              "      <td>1</td>\n",
              "    </tr>\n",
              "    <tr>\n",
              "      <th>26</th>\n",
              "      <td>23</td>\n",
              "      <td>1</td>\n",
              "      <td>0</td>\n",
              "    </tr>\n",
              "    <tr>\n",
              "      <th>27</th>\n",
              "      <td>46</td>\n",
              "      <td>1</td>\n",
              "      <td>0</td>\n",
              "    </tr>\n",
              "  </tbody>\n",
              "</table>\n",
              "</div>\n",
              "    <div class=\"colab-df-buttons\">\n",
              "\n",
              "  <div class=\"colab-df-container\">\n",
              "    <button class=\"colab-df-convert\" onclick=\"convertToInteractive('df-5c1e9e2b-d918-4301-85ee-a98f33f326f2')\"\n",
              "            title=\"Convert this dataframe to an interactive table.\"\n",
              "            style=\"display:none;\">\n",
              "\n",
              "  <svg xmlns=\"http://www.w3.org/2000/svg\" height=\"24px\" viewBox=\"0 -960 960 960\">\n",
              "    <path d=\"M120-120v-720h720v720H120Zm60-500h600v-160H180v160Zm220 220h160v-160H400v160Zm0 220h160v-160H400v160ZM180-400h160v-160H180v160Zm440 0h160v-160H620v160ZM180-180h160v-160H180v160Zm440 0h160v-160H620v160Z\"/>\n",
              "  </svg>\n",
              "    </button>\n",
              "\n",
              "  <style>\n",
              "    .colab-df-container {\n",
              "      display:flex;\n",
              "      gap: 12px;\n",
              "    }\n",
              "\n",
              "    .colab-df-convert {\n",
              "      background-color: #E8F0FE;\n",
              "      border: none;\n",
              "      border-radius: 50%;\n",
              "      cursor: pointer;\n",
              "      display: none;\n",
              "      fill: #1967D2;\n",
              "      height: 32px;\n",
              "      padding: 0 0 0 0;\n",
              "      width: 32px;\n",
              "    }\n",
              "\n",
              "    .colab-df-convert:hover {\n",
              "      background-color: #E2EBFA;\n",
              "      box-shadow: 0px 1px 2px rgba(60, 64, 67, 0.3), 0px 1px 3px 1px rgba(60, 64, 67, 0.15);\n",
              "      fill: #174EA6;\n",
              "    }\n",
              "\n",
              "    .colab-df-buttons div {\n",
              "      margin-bottom: 4px;\n",
              "    }\n",
              "\n",
              "    [theme=dark] .colab-df-convert {\n",
              "      background-color: #3B4455;\n",
              "      fill: #D2E3FC;\n",
              "    }\n",
              "\n",
              "    [theme=dark] .colab-df-convert:hover {\n",
              "      background-color: #434B5C;\n",
              "      box-shadow: 0px 1px 3px 1px rgba(0, 0, 0, 0.15);\n",
              "      filter: drop-shadow(0px 1px 2px rgba(0, 0, 0, 0.3));\n",
              "      fill: #FFFFFF;\n",
              "    }\n",
              "  </style>\n",
              "\n",
              "    <script>\n",
              "      const buttonEl =\n",
              "        document.querySelector('#df-5c1e9e2b-d918-4301-85ee-a98f33f326f2 button.colab-df-convert');\n",
              "      buttonEl.style.display =\n",
              "        google.colab.kernel.accessAllowed ? 'block' : 'none';\n",
              "\n",
              "      async function convertToInteractive(key) {\n",
              "        const element = document.querySelector('#df-5c1e9e2b-d918-4301-85ee-a98f33f326f2');\n",
              "        const dataTable =\n",
              "          await google.colab.kernel.invokeFunction('convertToInteractive',\n",
              "                                                    [key], {});\n",
              "        if (!dataTable) return;\n",
              "\n",
              "        const docLinkHtml = 'Like what you see? Visit the ' +\n",
              "          '<a target=\"_blank\" href=https://colab.research.google.com/notebooks/data_table.ipynb>data table notebook</a>'\n",
              "          + ' to learn more about interactive tables.';\n",
              "        element.innerHTML = '';\n",
              "        dataTable['output_type'] = 'display_data';\n",
              "        await google.colab.output.renderOutput(dataTable, element);\n",
              "        const docLink = document.createElement('div');\n",
              "        docLink.innerHTML = docLinkHtml;\n",
              "        element.appendChild(docLink);\n",
              "      }\n",
              "    </script>\n",
              "  </div>\n",
              "\n",
              "\n",
              "<div id=\"df-0392d738-b7d0-46dd-98a6-bbe536be9c7d\">\n",
              "  <button class=\"colab-df-quickchart\" onclick=\"quickchart('df-0392d738-b7d0-46dd-98a6-bbe536be9c7d')\"\n",
              "            title=\"Suggest charts\"\n",
              "            style=\"display:none;\">\n",
              "\n",
              "<svg xmlns=\"http://www.w3.org/2000/svg\" height=\"24px\"viewBox=\"0 0 24 24\"\n",
              "     width=\"24px\">\n",
              "    <g>\n",
              "        <path d=\"M19 3H5c-1.1 0-2 .9-2 2v14c0 1.1.9 2 2 2h14c1.1 0 2-.9 2-2V5c0-1.1-.9-2-2-2zM9 17H7v-7h2v7zm4 0h-2V7h2v10zm4 0h-2v-4h2v4z\"/>\n",
              "    </g>\n",
              "</svg>\n",
              "  </button>\n",
              "\n",
              "<style>\n",
              "  .colab-df-quickchart {\n",
              "      --bg-color: #E8F0FE;\n",
              "      --fill-color: #1967D2;\n",
              "      --hover-bg-color: #E2EBFA;\n",
              "      --hover-fill-color: #174EA6;\n",
              "      --disabled-fill-color: #AAA;\n",
              "      --disabled-bg-color: #DDD;\n",
              "  }\n",
              "\n",
              "  [theme=dark] .colab-df-quickchart {\n",
              "      --bg-color: #3B4455;\n",
              "      --fill-color: #D2E3FC;\n",
              "      --hover-bg-color: #434B5C;\n",
              "      --hover-fill-color: #FFFFFF;\n",
              "      --disabled-bg-color: #3B4455;\n",
              "      --disabled-fill-color: #666;\n",
              "  }\n",
              "\n",
              "  .colab-df-quickchart {\n",
              "    background-color: var(--bg-color);\n",
              "    border: none;\n",
              "    border-radius: 50%;\n",
              "    cursor: pointer;\n",
              "    display: none;\n",
              "    fill: var(--fill-color);\n",
              "    height: 32px;\n",
              "    padding: 0;\n",
              "    width: 32px;\n",
              "  }\n",
              "\n",
              "  .colab-df-quickchart:hover {\n",
              "    background-color: var(--hover-bg-color);\n",
              "    box-shadow: 0 1px 2px rgba(60, 64, 67, 0.3), 0 1px 3px 1px rgba(60, 64, 67, 0.15);\n",
              "    fill: var(--button-hover-fill-color);\n",
              "  }\n",
              "\n",
              "  .colab-df-quickchart-complete:disabled,\n",
              "  .colab-df-quickchart-complete:disabled:hover {\n",
              "    background-color: var(--disabled-bg-color);\n",
              "    fill: var(--disabled-fill-color);\n",
              "    box-shadow: none;\n",
              "  }\n",
              "\n",
              "  .colab-df-spinner {\n",
              "    border: 2px solid var(--fill-color);\n",
              "    border-color: transparent;\n",
              "    border-bottom-color: var(--fill-color);\n",
              "    animation:\n",
              "      spin 1s steps(1) infinite;\n",
              "  }\n",
              "\n",
              "  @keyframes spin {\n",
              "    0% {\n",
              "      border-color: transparent;\n",
              "      border-bottom-color: var(--fill-color);\n",
              "      border-left-color: var(--fill-color);\n",
              "    }\n",
              "    20% {\n",
              "      border-color: transparent;\n",
              "      border-left-color: var(--fill-color);\n",
              "      border-top-color: var(--fill-color);\n",
              "    }\n",
              "    30% {\n",
              "      border-color: transparent;\n",
              "      border-left-color: var(--fill-color);\n",
              "      border-top-color: var(--fill-color);\n",
              "      border-right-color: var(--fill-color);\n",
              "    }\n",
              "    40% {\n",
              "      border-color: transparent;\n",
              "      border-right-color: var(--fill-color);\n",
              "      border-top-color: var(--fill-color);\n",
              "    }\n",
              "    60% {\n",
              "      border-color: transparent;\n",
              "      border-right-color: var(--fill-color);\n",
              "    }\n",
              "    80% {\n",
              "      border-color: transparent;\n",
              "      border-right-color: var(--fill-color);\n",
              "      border-bottom-color: var(--fill-color);\n",
              "    }\n",
              "    90% {\n",
              "      border-color: transparent;\n",
              "      border-bottom-color: var(--fill-color);\n",
              "    }\n",
              "  }\n",
              "</style>\n",
              "\n",
              "  <script>\n",
              "    async function quickchart(key) {\n",
              "      const quickchartButtonEl =\n",
              "        document.querySelector('#' + key + ' button');\n",
              "      quickchartButtonEl.disabled = true;  // To prevent multiple clicks.\n",
              "      quickchartButtonEl.classList.add('colab-df-spinner');\n",
              "      try {\n",
              "        const charts = await google.colab.kernel.invokeFunction(\n",
              "            'suggestCharts', [key], {});\n",
              "      } catch (error) {\n",
              "        console.error('Error during call to suggestCharts:', error);\n",
              "      }\n",
              "      quickchartButtonEl.classList.remove('colab-df-spinner');\n",
              "      quickchartButtonEl.classList.add('colab-df-quickchart-complete');\n",
              "    }\n",
              "    (() => {\n",
              "      let quickchartButtonEl =\n",
              "        document.querySelector('#df-0392d738-b7d0-46dd-98a6-bbe536be9c7d button');\n",
              "      quickchartButtonEl.style.display =\n",
              "        google.colab.kernel.accessAllowed ? 'block' : 'none';\n",
              "    })();\n",
              "  </script>\n",
              "</div>\n",
              "\n",
              "  <div id=\"id_fbb61b12-9187-4957-aa0f-1f799ac466a7\">\n",
              "    <style>\n",
              "      .colab-df-generate {\n",
              "        background-color: #E8F0FE;\n",
              "        border: none;\n",
              "        border-radius: 50%;\n",
              "        cursor: pointer;\n",
              "        display: none;\n",
              "        fill: #1967D2;\n",
              "        height: 32px;\n",
              "        padding: 0 0 0 0;\n",
              "        width: 32px;\n",
              "      }\n",
              "\n",
              "      .colab-df-generate:hover {\n",
              "        background-color: #E2EBFA;\n",
              "        box-shadow: 0px 1px 2px rgba(60, 64, 67, 0.3), 0px 1px 3px 1px rgba(60, 64, 67, 0.15);\n",
              "        fill: #174EA6;\n",
              "      }\n",
              "\n",
              "      [theme=dark] .colab-df-generate {\n",
              "        background-color: #3B4455;\n",
              "        fill: #D2E3FC;\n",
              "      }\n",
              "\n",
              "      [theme=dark] .colab-df-generate:hover {\n",
              "        background-color: #434B5C;\n",
              "        box-shadow: 0px 1px 3px 1px rgba(0, 0, 0, 0.15);\n",
              "        filter: drop-shadow(0px 1px 2px rgba(0, 0, 0, 0.3));\n",
              "        fill: #FFFFFF;\n",
              "      }\n",
              "    </style>\n",
              "    <button class=\"colab-df-generate\" onclick=\"generateWithVariable('d')\"\n",
              "            title=\"Generate code using this dataframe.\"\n",
              "            style=\"display:none;\">\n",
              "\n",
              "  <svg xmlns=\"http://www.w3.org/2000/svg\" height=\"24px\"viewBox=\"0 0 24 24\"\n",
              "       width=\"24px\">\n",
              "    <path d=\"M7,19H8.4L18.45,9,17,7.55,7,17.6ZM5,21V16.75L18.45,3.32a2,2,0,0,1,2.83,0l1.4,1.43a1.91,1.91,0,0,1,.58,1.4,1.91,1.91,0,0,1-.58,1.4L9.25,21ZM18.45,9,17,7.55Zm-12,3A5.31,5.31,0,0,0,4.9,8.1,5.31,5.31,0,0,0,1,6.5,5.31,5.31,0,0,0,4.9,4.9,5.31,5.31,0,0,0,6.5,1,5.31,5.31,0,0,0,8.1,4.9,5.31,5.31,0,0,0,12,6.5,5.46,5.46,0,0,0,6.5,12Z\"/>\n",
              "  </svg>\n",
              "    </button>\n",
              "    <script>\n",
              "      (() => {\n",
              "      const buttonEl =\n",
              "        document.querySelector('#id_fbb61b12-9187-4957-aa0f-1f799ac466a7 button.colab-df-generate');\n",
              "      buttonEl.style.display =\n",
              "        google.colab.kernel.accessAllowed ? 'block' : 'none';\n",
              "\n",
              "      buttonEl.onclick = () => {\n",
              "        google.colab.notebook.generateWithVariable('d');\n",
              "      }\n",
              "      })();\n",
              "    </script>\n",
              "  </div>\n",
              "\n",
              "    </div>\n",
              "  </div>\n"
            ]
          },
          "metadata": {},
          "execution_count": 213
        }
      ]
    },
    {
      "cell_type": "code",
      "source": [
        "from sklearn.model_selection import train_test_split"
      ],
      "metadata": {
        "id": "mn3KcRNVS1_M"
      },
      "execution_count": 214,
      "outputs": []
    },
    {
      "cell_type": "code",
      "source": [
        "X=d.drop(\"bought_insurance\",axis=1)\n",
        "y=d[\"bought_insurance\"]"
      ],
      "metadata": {
        "id": "R0PFtKr3S2Bv"
      },
      "execution_count": 215,
      "outputs": []
    },
    {
      "cell_type": "code",
      "source": [
        "X_train, X_test, y_train, y_test = train_test_split(X, y, test_size=0.2, random_state=42)"
      ],
      "metadata": {
        "id": "hSoOYRgkS2Fl"
      },
      "execution_count": 216,
      "outputs": []
    },
    {
      "cell_type": "code",
      "source": [
        "X_train_age = np.array(X_train['age'])\n",
        "X_train_aff = np.array(X_train['affordibility'])"
      ],
      "metadata": {
        "id": "ZRGFQWMRaSj-"
      },
      "execution_count": 217,
      "outputs": []
    },
    {
      "cell_type": "code",
      "source": [
        "def log_loss(yt,yp):\n",
        "  e=1e-10\n",
        "  print(\"**\",y)\n",
        "  yp_new=[max(i,e) for i in yp]\n",
        "  print(\"**\",yp_new)\n",
        "  yp_new=[min(i,1-e) for i in yp_new]\n",
        "  print(\"**\",yp_new)\n",
        "  yp_new=np.array(yp_new)\n",
        "  return -np.mean(yt*np.log(yp_new)+(1-yt)*np.log(1-yp_new))"
      ],
      "metadata": {
        "id": "bApziEF4WpHn"
      },
      "execution_count": 218,
      "outputs": []
    },
    {
      "cell_type": "code",
      "source": [
        "def sigmoid_numpy(x):\n",
        "  return 1/(1-np.exp(-x))"
      ],
      "metadata": {
        "id": "r8hby0dEbIkm"
      },
      "execution_count": 219,
      "outputs": []
    },
    {
      "cell_type": "code",
      "source": [
        "model_3 = keras.Sequential([keras.layers.Flatten(),\n",
        "    keras.layers.Dense(18, input_shape = (2,), activation = \"relu\"),\n",
        "                            keras.layers.Dense(32, activation = \"sigmoid\"),\n",
        "                            keras.layers.Dense(128, activation = \"sigmoid\"),\n",
        "                            keras.layers.Dense(64, activation = \"tanh\"),\n",
        "                            keras.layers.Dense(32, activation = \"tanh\"),\n",
        "                            keras.layers.Dense(2, activation = \"sigmoid\")])\n",
        "\n",
        "model_3.compile(optimizer = \"adam\",\n",
        "                loss = \"sparse_categorical_crossentropy\",\n",
        "                metrics = [\"accuracy\"])\n",
        "\n",
        "model_3.fit(X_train, y_train, epochs = 20)"
      ],
      "metadata": {
        "colab": {
          "base_uri": "https://localhost:8080/"
        },
        "id": "FYH_X0JKS2Hw",
        "outputId": "fd4e9a7a-0a53-4d1c-8c79-4e63b0b19f34"
      },
      "execution_count": 220,
      "outputs": [
        {
          "output_type": "stream",
          "name": "stdout",
          "text": [
            "Epoch 1/20\n",
            "1/1 [==============================] - 1s 1s/step - loss: 0.7278 - accuracy: 0.5000\n",
            "Epoch 2/20\n",
            "1/1 [==============================] - 0s 18ms/step - loss: 0.7062 - accuracy: 0.5000\n",
            "Epoch 3/20\n",
            "1/1 [==============================] - 0s 10ms/step - loss: 0.7170 - accuracy: 0.5000\n",
            "Epoch 4/20\n",
            "1/1 [==============================] - 0s 8ms/step - loss: 0.6935 - accuracy: 0.5000\n",
            "Epoch 5/20\n",
            "1/1 [==============================] - 0s 8ms/step - loss: 0.6873 - accuracy: 0.5000\n",
            "Epoch 6/20\n",
            "1/1 [==============================] - 0s 8ms/step - loss: 0.6970 - accuracy: 0.5000\n",
            "Epoch 7/20\n",
            "1/1 [==============================] - 0s 9ms/step - loss: 0.6969 - accuracy: 0.5000\n",
            "Epoch 8/20\n",
            "1/1 [==============================] - 0s 7ms/step - loss: 0.6869 - accuracy: 0.5000\n",
            "Epoch 9/20\n",
            "1/1 [==============================] - 0s 9ms/step - loss: 0.6806 - accuracy: 0.8182\n",
            "Epoch 10/20\n",
            "1/1 [==============================] - 0s 11ms/step - loss: 0.6827 - accuracy: 0.5000\n",
            "Epoch 11/20\n",
            "1/1 [==============================] - 0s 16ms/step - loss: 0.6857 - accuracy: 0.5000\n",
            "Epoch 12/20\n",
            "1/1 [==============================] - 0s 12ms/step - loss: 0.6829 - accuracy: 0.5000\n",
            "Epoch 13/20\n",
            "1/1 [==============================] - 0s 36ms/step - loss: 0.6766 - accuracy: 0.5000\n",
            "Epoch 14/20\n",
            "1/1 [==============================] - 0s 9ms/step - loss: 0.6727 - accuracy: 0.8182\n",
            "Epoch 15/20\n",
            "1/1 [==============================] - 0s 9ms/step - loss: 0.6732 - accuracy: 0.5000\n",
            "Epoch 16/20\n",
            "1/1 [==============================] - 0s 8ms/step - loss: 0.6740 - accuracy: 0.5000\n",
            "Epoch 17/20\n",
            "1/1 [==============================] - 0s 7ms/step - loss: 0.6711 - accuracy: 0.5000\n",
            "Epoch 18/20\n",
            "1/1 [==============================] - 0s 7ms/step - loss: 0.6659 - accuracy: 0.5000\n",
            "Epoch 19/20\n",
            "1/1 [==============================] - 0s 8ms/step - loss: 0.6625 - accuracy: 0.8182\n",
            "Epoch 20/20\n",
            "1/1 [==============================] - 0s 15ms/step - loss: 0.6617 - accuracy: 0.7273\n"
          ]
        },
        {
          "output_type": "execute_result",
          "data": {
            "text/plain": [
              "<keras.src.callbacks.History at 0x7c0e48393250>"
            ]
          },
          "metadata": {},
          "execution_count": 220
        }
      ]
    },
    {
      "cell_type": "code",
      "source": [
        "def gradient_decent(age,aff,y_t,Epochs,loss_thr):\n",
        "  w1=1\n",
        "  w2=1\n",
        "  b=0\n",
        "  n=len(age)\n",
        "  learning_rate=0.5\n",
        "  for i in range(Epochs):\n",
        "    weighted_sum = w1 * age + w2 * aff + b\n",
        "    y_p= sigmoid_numpy(weighted_sum)\n",
        "    loss=log_loss(y_t,y_p)\n",
        "\n",
        "    w1_d=(1/n)*np.dot(age,(y_p-y_t))\n",
        "    w2_d=(1/n)*np.dot(aff,(y_p-y_t))\n",
        "    b_d=np.mean(y_t-y_p)\n",
        "\n",
        "    w1=1-learning_rate*w1_d\n",
        "    w2=2-learning_rate*w2_d\n",
        "    b=b-learning_rate*b_d\n",
        "\n",
        "    if loss<loss_thr:\n",
        "      break\n",
        "\n",
        "    print(\"Epochs:\",i,\"w1:\",w1,\"w2:\",w2,\"b:\",b,\"loss:\",loss)\n",
        "    return w1,w2,b"
      ],
      "metadata": {
        "id": "MoPFATg-NEMD"
      },
      "execution_count": 221,
      "outputs": []
    },
    {
      "cell_type": "code",
      "source": [
        "gradient_descent(X_train_age,X_train_aff,y_train,100, 0.4631)"
      ],
      "metadata": {
        "id": "fCRks5pzR2Wh"
      },
      "execution_count": null,
      "outputs": []
    },
    {
      "cell_type": "code",
      "source": [
        "class ANN:\n",
        "  def __init__(self):\n",
        "    self.w1=1\n",
        "    self.w2=1\n",
        "    self.b=0\n",
        "\n",
        "  def fit(self,X,y,Epochs,loss_thr):\n",
        "      self.gradient_decent(X[\"age\"],[\"affordability\"],y, Epochs,loss_thr):\n",
        "\n",
        "\n",
        "  def gradient_decent(age,aff,y_t,Epochs,loss_thr):\n",
        "          w1=1\n",
        "          w2=1\n",
        "          b=0\n",
        "          n=len(age)\n",
        "          learning_rate=0.5\n",
        "          for i in range(Epochs):\n",
        "             weighted_sum = w1 * age + w2 * aff + b\n",
        "             y_p= sigmoid_numpy(weighted_sum)\n",
        "             loss=log_loss(y_t,y_p)\n",
        "\n",
        "             w1_d=(1/n)*np.dot(age,(y_p-y_t))\n",
        "             w2_d=(1/n)*np.dot(aff,(y_p-y_t))\n",
        "             b_d=np.mean(y_t-y_p)\n",
        "\n",
        "             w1=1-learning_rate*w1_d\n",
        "             w2=2-learning_rate*w2_d\n",
        "             b=b-learning_rate*b_d\n",
        "\n",
        "             if loss<loss_thr:\n",
        "                break\n",
        "\n",
        "             print(\"Epochs:\",i,\"w1:\",w1,\"w2:\",w2,\"b:\",b,\"loss:\",loss)\n",
        "             return w1,w2,b"
      ],
      "metadata": {
        "colab": {
          "base_uri": "https://localhost:8080/",
          "height": 142
        },
        "id": "iJ-NhuOrcmne",
        "outputId": "fda9527e-428c-4e76-9856-8705e7402881"
      },
      "execution_count": 226,
      "outputs": [
        {
          "output_type": "error",
          "ename": "SyntaxError",
          "evalue": "invalid syntax (<ipython-input-226-a30eafa14bdf>, line 8)",
          "traceback": [
            "\u001b[0;36m  File \u001b[0;32m\"<ipython-input-226-a30eafa14bdf>\"\u001b[0;36m, line \u001b[0;32m8\u001b[0m\n\u001b[0;31m    self.gradient_decent(X[\"age\"],[\"affordability\"],y, Epochs,loss_thr):\u001b[0m\n\u001b[0m                                                                       ^\u001b[0m\n\u001b[0;31mSyntaxError\u001b[0m\u001b[0;31m:\u001b[0m invalid syntax\n"
          ]
        }
      ]
    },
    {
      "cell_type": "code",
      "source": [
        "nn_model=ANN()\n",
        "nn_model.fit(X_train,y_train,epochs=2000)\n",
        "\n"
      ],
      "metadata": {
        "colab": {
          "base_uri": "https://localhost:8080/",
          "height": 211
        },
        "id": "RAv_TyxecErE",
        "outputId": "6295ab48-ca05-4b78-cfd5-6faf04dff1fd"
      },
      "execution_count": 225,
      "outputs": [
        {
          "output_type": "error",
          "ename": "NameError",
          "evalue": "name 'ANN' is not defined",
          "traceback": [
            "\u001b[0;31m---------------------------------------------------------------------------\u001b[0m",
            "\u001b[0;31mNameError\u001b[0m                                 Traceback (most recent call last)",
            "\u001b[0;32m<ipython-input-225-0a33bef5f1da>\u001b[0m in \u001b[0;36m<cell line: 1>\u001b[0;34m()\u001b[0m\n\u001b[0;32m----> 1\u001b[0;31m \u001b[0mnn_model\u001b[0m\u001b[0;34m=\u001b[0m\u001b[0mANN\u001b[0m\u001b[0;34m(\u001b[0m\u001b[0;34m)\u001b[0m\u001b[0;34m\u001b[0m\u001b[0;34m\u001b[0m\u001b[0m\n\u001b[0m\u001b[1;32m      2\u001b[0m \u001b[0mnn_model\u001b[0m\u001b[0;34m.\u001b[0m\u001b[0mfit\u001b[0m\u001b[0;34m(\u001b[0m\u001b[0mX_train\u001b[0m\u001b[0;34m,\u001b[0m\u001b[0my_train\u001b[0m\u001b[0;34m,\u001b[0m\u001b[0mepochs\u001b[0m\u001b[0;34m=\u001b[0m\u001b[0;36m2000\u001b[0m\u001b[0;34m)\u001b[0m\u001b[0;34m\u001b[0m\u001b[0;34m\u001b[0m\u001b[0m\n\u001b[1;32m      3\u001b[0m \u001b[0;34m\u001b[0m\u001b[0m\n",
            "\u001b[0;31mNameError\u001b[0m: name 'ANN' is not defined"
          ]
        }
      ]
    },
    {
      "cell_type": "code",
      "source": [
        "def predict_ann(input_data):\n",
        "input_data = np.array(input_data)\n",
        "    input_data = np.reshape(input_data, (1, -1))\n",
        "\n",
        "\n",
        "    predictions = model.predict(input_data)\n",
        "\n",
        "    return predictions\n",
        "\n",
        "\n",
        "input_example = [3.5, 1.2, 5.1, 0.7]\n",
        "predictions = predict_ann(input_example)\n",
        "print(\"Predictions:\", predictions)"
      ],
      "metadata": {
        "id": "jP_q7zc8jCVB"
      },
      "execution_count": null,
      "outputs": []
    }
  ]
}